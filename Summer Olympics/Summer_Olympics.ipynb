{
  "nbformat": 4,
  "nbformat_minor": 0,
  "metadata": {
    "colab": {
      "name": "Summer Olympics.ipynb",
      "provenance": [],
      "collapsed_sections": []
    },
    "kernelspec": {
      "name": "python3",
      "display_name": "Python 3"
    },
    "language_info": {
      "name": "python"
    },
    "accelerator": "GPU"
  },
  "cells": [
    {
      "cell_type": "markdown",
      "metadata": {
        "id": "B943TPoPpE7u"
      },
      "source": [
        "#Summer Olympics Data Analysis\n"
      ]
    },
    {
      "cell_type": "code",
      "metadata": {
        "id": "H-3eKCzFo2yq"
      },
      "source": [
        "import pandas as pd"
      ],
      "execution_count": 4,
      "outputs": []
    },
    {
      "cell_type": "code",
      "metadata": {
        "id": "wsJ11kh5pA8n"
      },
      "source": [
        "df = pd.read_csv('summerOlymp.csv')"
      ],
      "execution_count": 6,
      "outputs": []
    },
    {
      "cell_type": "code",
      "metadata": {
        "colab": {
          "base_uri": "https://localhost:8080/",
          "height": 203
        },
        "id": "u5PtstZwpsGI",
        "outputId": "b2a1576a-1aa0-4d0c-dc51-b2715c434dec"
      },
      "source": [
        "df.head()"
      ],
      "execution_count": 7,
      "outputs": [
        {
          "output_type": "execute_result",
          "data": {
            "text/html": [
              "<div>\n",
              "<style scoped>\n",
              "    .dataframe tbody tr th:only-of-type {\n",
              "        vertical-align: middle;\n",
              "    }\n",
              "\n",
              "    .dataframe tbody tr th {\n",
              "        vertical-align: top;\n",
              "    }\n",
              "\n",
              "    .dataframe thead th {\n",
              "        text-align: right;\n",
              "    }\n",
              "</style>\n",
              "<table border=\"1\" class=\"dataframe\">\n",
              "  <thead>\n",
              "    <tr style=\"text-align: right;\">\n",
              "      <th></th>\n",
              "      <th>Year</th>\n",
              "      <th>City</th>\n",
              "      <th>Sport</th>\n",
              "      <th>Discipline</th>\n",
              "      <th>Athlete</th>\n",
              "      <th>Country</th>\n",
              "      <th>Gender</th>\n",
              "      <th>Event</th>\n",
              "      <th>Medal</th>\n",
              "    </tr>\n",
              "  </thead>\n",
              "  <tbody>\n",
              "    <tr>\n",
              "      <th>0</th>\n",
              "      <td>1896</td>\n",
              "      <td>Athens</td>\n",
              "      <td>Aquatics</td>\n",
              "      <td>Swimming</td>\n",
              "      <td>HAJOS, Alfred</td>\n",
              "      <td>HUN</td>\n",
              "      <td>Men</td>\n",
              "      <td>100M Freestyle</td>\n",
              "      <td>Gold</td>\n",
              "    </tr>\n",
              "    <tr>\n",
              "      <th>1</th>\n",
              "      <td>1896</td>\n",
              "      <td>Athens</td>\n",
              "      <td>Aquatics</td>\n",
              "      <td>Swimming</td>\n",
              "      <td>HERSCHMANN, Otto</td>\n",
              "      <td>AUT</td>\n",
              "      <td>Men</td>\n",
              "      <td>100M Freestyle</td>\n",
              "      <td>Silver</td>\n",
              "    </tr>\n",
              "    <tr>\n",
              "      <th>2</th>\n",
              "      <td>1896</td>\n",
              "      <td>Athens</td>\n",
              "      <td>Aquatics</td>\n",
              "      <td>Swimming</td>\n",
              "      <td>DRIVAS, Dimitrios</td>\n",
              "      <td>GRE</td>\n",
              "      <td>Men</td>\n",
              "      <td>100M Freestyle For Sailors</td>\n",
              "      <td>Bronze</td>\n",
              "    </tr>\n",
              "    <tr>\n",
              "      <th>3</th>\n",
              "      <td>1896</td>\n",
              "      <td>Athens</td>\n",
              "      <td>Aquatics</td>\n",
              "      <td>Swimming</td>\n",
              "      <td>MALOKINIS, Ioannis</td>\n",
              "      <td>GRE</td>\n",
              "      <td>Men</td>\n",
              "      <td>100M Freestyle For Sailors</td>\n",
              "      <td>Gold</td>\n",
              "    </tr>\n",
              "    <tr>\n",
              "      <th>4</th>\n",
              "      <td>1896</td>\n",
              "      <td>Athens</td>\n",
              "      <td>Aquatics</td>\n",
              "      <td>Swimming</td>\n",
              "      <td>CHASAPIS, Spiridon</td>\n",
              "      <td>GRE</td>\n",
              "      <td>Men</td>\n",
              "      <td>100M Freestyle For Sailors</td>\n",
              "      <td>Silver</td>\n",
              "    </tr>\n",
              "  </tbody>\n",
              "</table>\n",
              "</div>"
            ],
            "text/plain": [
              "   Year    City     Sport  ... Gender                       Event   Medal\n",
              "0  1896  Athens  Aquatics  ...    Men              100M Freestyle    Gold\n",
              "1  1896  Athens  Aquatics  ...    Men              100M Freestyle  Silver\n",
              "2  1896  Athens  Aquatics  ...    Men  100M Freestyle For Sailors  Bronze\n",
              "3  1896  Athens  Aquatics  ...    Men  100M Freestyle For Sailors    Gold\n",
              "4  1896  Athens  Aquatics  ...    Men  100M Freestyle For Sailors  Silver\n",
              "\n",
              "[5 rows x 9 columns]"
            ]
          },
          "metadata": {},
          "execution_count": 7
        }
      ]
    },
    {
      "cell_type": "code",
      "metadata": {
        "colab": {
          "base_uri": "https://localhost:8080/",
          "height": 203
        },
        "id": "YVinnXZusPcf",
        "outputId": "32628b05-be1d-4064-a607-5e76efc17d23"
      },
      "source": [
        "df.tail()"
      ],
      "execution_count": 25,
      "outputs": [
        {
          "output_type": "execute_result",
          "data": {
            "text/html": [
              "<div>\n",
              "<style scoped>\n",
              "    .dataframe tbody tr th:only-of-type {\n",
              "        vertical-align: middle;\n",
              "    }\n",
              "\n",
              "    .dataframe tbody tr th {\n",
              "        vertical-align: top;\n",
              "    }\n",
              "\n",
              "    .dataframe thead th {\n",
              "        text-align: right;\n",
              "    }\n",
              "</style>\n",
              "<table border=\"1\" class=\"dataframe\">\n",
              "  <thead>\n",
              "    <tr style=\"text-align: right;\">\n",
              "      <th></th>\n",
              "      <th>Year</th>\n",
              "      <th>City</th>\n",
              "      <th>Sport</th>\n",
              "      <th>Discipline</th>\n",
              "      <th>Athlete</th>\n",
              "      <th>Country</th>\n",
              "      <th>Gender</th>\n",
              "      <th>Event</th>\n",
              "      <th>Medal</th>\n",
              "    </tr>\n",
              "  </thead>\n",
              "  <tbody>\n",
              "    <tr>\n",
              "      <th>31160</th>\n",
              "      <td>2012</td>\n",
              "      <td>London</td>\n",
              "      <td>Wrestling</td>\n",
              "      <td>Wrestling Freestyle</td>\n",
              "      <td>JANIKOWSKI, Damian</td>\n",
              "      <td>POL</td>\n",
              "      <td>Men</td>\n",
              "      <td>Wg 84 KG</td>\n",
              "      <td>Bronze</td>\n",
              "    </tr>\n",
              "    <tr>\n",
              "      <th>31161</th>\n",
              "      <td>2012</td>\n",
              "      <td>London</td>\n",
              "      <td>Wrestling</td>\n",
              "      <td>Wrestling Freestyle</td>\n",
              "      <td>REZAEI, Ghasem Gholamreza</td>\n",
              "      <td>IRI</td>\n",
              "      <td>Men</td>\n",
              "      <td>Wg 96 KG</td>\n",
              "      <td>Gold</td>\n",
              "    </tr>\n",
              "    <tr>\n",
              "      <th>31162</th>\n",
              "      <td>2012</td>\n",
              "      <td>London</td>\n",
              "      <td>Wrestling</td>\n",
              "      <td>Wrestling Freestyle</td>\n",
              "      <td>TOTROV, Rustam</td>\n",
              "      <td>RUS</td>\n",
              "      <td>Men</td>\n",
              "      <td>Wg 96 KG</td>\n",
              "      <td>Silver</td>\n",
              "    </tr>\n",
              "    <tr>\n",
              "      <th>31163</th>\n",
              "      <td>2012</td>\n",
              "      <td>London</td>\n",
              "      <td>Wrestling</td>\n",
              "      <td>Wrestling Freestyle</td>\n",
              "      <td>ALEKSANYAN, Artur</td>\n",
              "      <td>ARM</td>\n",
              "      <td>Men</td>\n",
              "      <td>Wg 96 KG</td>\n",
              "      <td>Bronze</td>\n",
              "    </tr>\n",
              "    <tr>\n",
              "      <th>31164</th>\n",
              "      <td>2012</td>\n",
              "      <td>London</td>\n",
              "      <td>Wrestling</td>\n",
              "      <td>Wrestling Freestyle</td>\n",
              "      <td>LIDBERG, Jimmy</td>\n",
              "      <td>SWE</td>\n",
              "      <td>Men</td>\n",
              "      <td>Wg 96 KG</td>\n",
              "      <td>Bronze</td>\n",
              "    </tr>\n",
              "  </tbody>\n",
              "</table>\n",
              "</div>"
            ],
            "text/plain": [
              "       Year    City      Sport  ... Gender     Event   Medal\n",
              "31160  2012  London  Wrestling  ...    Men  Wg 84 KG  Bronze\n",
              "31161  2012  London  Wrestling  ...    Men  Wg 96 KG    Gold\n",
              "31162  2012  London  Wrestling  ...    Men  Wg 96 KG  Silver\n",
              "31163  2012  London  Wrestling  ...    Men  Wg 96 KG  Bronze\n",
              "31164  2012  London  Wrestling  ...    Men  Wg 96 KG  Bronze\n",
              "\n",
              "[5 rows x 9 columns]"
            ]
          },
          "metadata": {},
          "execution_count": 25
        }
      ]
    },
    {
      "cell_type": "code",
      "metadata": {
        "colab": {
          "base_uri": "https://localhost:8080/"
        },
        "id": "fgtum4xFpxi2",
        "outputId": "a9301e95-d95f-4fa1-b3b1-1feee4da4659"
      },
      "source": [
        "df.info()"
      ],
      "execution_count": 9,
      "outputs": [
        {
          "output_type": "stream",
          "name": "stdout",
          "text": [
            "<class 'pandas.core.frame.DataFrame'>\n",
            "RangeIndex: 31165 entries, 0 to 31164\n",
            "Data columns (total 9 columns):\n",
            " #   Column      Non-Null Count  Dtype \n",
            "---  ------      --------------  ----- \n",
            " 0   Year        31165 non-null  int64 \n",
            " 1   City        31165 non-null  object\n",
            " 2   Sport       31165 non-null  object\n",
            " 3   Discipline  31165 non-null  object\n",
            " 4   Athlete     31165 non-null  object\n",
            " 5   Country     31161 non-null  object\n",
            " 6   Gender      31165 non-null  object\n",
            " 7   Event       31165 non-null  object\n",
            " 8   Medal       31165 non-null  object\n",
            "dtypes: int64(1), object(8)\n",
            "memory usage: 2.1+ MB\n"
          ]
        }
      ]
    },
    {
      "cell_type": "code",
      "metadata": {
        "colab": {
          "base_uri": "https://localhost:8080/",
          "height": 417
        },
        "id": "ldBZlstqp3Hm",
        "outputId": "4a5bfe63-68aa-4129-9871-940e31d0f31a"
      },
      "source": [
        "df.isnull()"
      ],
      "execution_count": 11,
      "outputs": [
        {
          "output_type": "execute_result",
          "data": {
            "text/html": [
              "<div>\n",
              "<style scoped>\n",
              "    .dataframe tbody tr th:only-of-type {\n",
              "        vertical-align: middle;\n",
              "    }\n",
              "\n",
              "    .dataframe tbody tr th {\n",
              "        vertical-align: top;\n",
              "    }\n",
              "\n",
              "    .dataframe thead th {\n",
              "        text-align: right;\n",
              "    }\n",
              "</style>\n",
              "<table border=\"1\" class=\"dataframe\">\n",
              "  <thead>\n",
              "    <tr style=\"text-align: right;\">\n",
              "      <th></th>\n",
              "      <th>Year</th>\n",
              "      <th>City</th>\n",
              "      <th>Sport</th>\n",
              "      <th>Discipline</th>\n",
              "      <th>Athlete</th>\n",
              "      <th>Country</th>\n",
              "      <th>Gender</th>\n",
              "      <th>Event</th>\n",
              "      <th>Medal</th>\n",
              "    </tr>\n",
              "  </thead>\n",
              "  <tbody>\n",
              "    <tr>\n",
              "      <th>0</th>\n",
              "      <td>False</td>\n",
              "      <td>False</td>\n",
              "      <td>False</td>\n",
              "      <td>False</td>\n",
              "      <td>False</td>\n",
              "      <td>False</td>\n",
              "      <td>False</td>\n",
              "      <td>False</td>\n",
              "      <td>False</td>\n",
              "    </tr>\n",
              "    <tr>\n",
              "      <th>1</th>\n",
              "      <td>False</td>\n",
              "      <td>False</td>\n",
              "      <td>False</td>\n",
              "      <td>False</td>\n",
              "      <td>False</td>\n",
              "      <td>False</td>\n",
              "      <td>False</td>\n",
              "      <td>False</td>\n",
              "      <td>False</td>\n",
              "    </tr>\n",
              "    <tr>\n",
              "      <th>2</th>\n",
              "      <td>False</td>\n",
              "      <td>False</td>\n",
              "      <td>False</td>\n",
              "      <td>False</td>\n",
              "      <td>False</td>\n",
              "      <td>False</td>\n",
              "      <td>False</td>\n",
              "      <td>False</td>\n",
              "      <td>False</td>\n",
              "    </tr>\n",
              "    <tr>\n",
              "      <th>3</th>\n",
              "      <td>False</td>\n",
              "      <td>False</td>\n",
              "      <td>False</td>\n",
              "      <td>False</td>\n",
              "      <td>False</td>\n",
              "      <td>False</td>\n",
              "      <td>False</td>\n",
              "      <td>False</td>\n",
              "      <td>False</td>\n",
              "    </tr>\n",
              "    <tr>\n",
              "      <th>4</th>\n",
              "      <td>False</td>\n",
              "      <td>False</td>\n",
              "      <td>False</td>\n",
              "      <td>False</td>\n",
              "      <td>False</td>\n",
              "      <td>False</td>\n",
              "      <td>False</td>\n",
              "      <td>False</td>\n",
              "      <td>False</td>\n",
              "    </tr>\n",
              "    <tr>\n",
              "      <th>...</th>\n",
              "      <td>...</td>\n",
              "      <td>...</td>\n",
              "      <td>...</td>\n",
              "      <td>...</td>\n",
              "      <td>...</td>\n",
              "      <td>...</td>\n",
              "      <td>...</td>\n",
              "      <td>...</td>\n",
              "      <td>...</td>\n",
              "    </tr>\n",
              "    <tr>\n",
              "      <th>31160</th>\n",
              "      <td>False</td>\n",
              "      <td>False</td>\n",
              "      <td>False</td>\n",
              "      <td>False</td>\n",
              "      <td>False</td>\n",
              "      <td>False</td>\n",
              "      <td>False</td>\n",
              "      <td>False</td>\n",
              "      <td>False</td>\n",
              "    </tr>\n",
              "    <tr>\n",
              "      <th>31161</th>\n",
              "      <td>False</td>\n",
              "      <td>False</td>\n",
              "      <td>False</td>\n",
              "      <td>False</td>\n",
              "      <td>False</td>\n",
              "      <td>False</td>\n",
              "      <td>False</td>\n",
              "      <td>False</td>\n",
              "      <td>False</td>\n",
              "    </tr>\n",
              "    <tr>\n",
              "      <th>31162</th>\n",
              "      <td>False</td>\n",
              "      <td>False</td>\n",
              "      <td>False</td>\n",
              "      <td>False</td>\n",
              "      <td>False</td>\n",
              "      <td>False</td>\n",
              "      <td>False</td>\n",
              "      <td>False</td>\n",
              "      <td>False</td>\n",
              "    </tr>\n",
              "    <tr>\n",
              "      <th>31163</th>\n",
              "      <td>False</td>\n",
              "      <td>False</td>\n",
              "      <td>False</td>\n",
              "      <td>False</td>\n",
              "      <td>False</td>\n",
              "      <td>False</td>\n",
              "      <td>False</td>\n",
              "      <td>False</td>\n",
              "      <td>False</td>\n",
              "    </tr>\n",
              "    <tr>\n",
              "      <th>31164</th>\n",
              "      <td>False</td>\n",
              "      <td>False</td>\n",
              "      <td>False</td>\n",
              "      <td>False</td>\n",
              "      <td>False</td>\n",
              "      <td>False</td>\n",
              "      <td>False</td>\n",
              "      <td>False</td>\n",
              "      <td>False</td>\n",
              "    </tr>\n",
              "  </tbody>\n",
              "</table>\n",
              "<p>31165 rows × 9 columns</p>\n",
              "</div>"
            ],
            "text/plain": [
              "        Year   City  Sport  Discipline  Athlete  Country  Gender  Event  Medal\n",
              "0      False  False  False       False    False    False   False  False  False\n",
              "1      False  False  False       False    False    False   False  False  False\n",
              "2      False  False  False       False    False    False   False  False  False\n",
              "3      False  False  False       False    False    False   False  False  False\n",
              "4      False  False  False       False    False    False   False  False  False\n",
              "...      ...    ...    ...         ...      ...      ...     ...    ...    ...\n",
              "31160  False  False  False       False    False    False   False  False  False\n",
              "31161  False  False  False       False    False    False   False  False  False\n",
              "31162  False  False  False       False    False    False   False  False  False\n",
              "31163  False  False  False       False    False    False   False  False  False\n",
              "31164  False  False  False       False    False    False   False  False  False\n",
              "\n",
              "[31165 rows x 9 columns]"
            ]
          },
          "metadata": {},
          "execution_count": 11
        }
      ]
    },
    {
      "cell_type": "code",
      "metadata": {
        "colab": {
          "base_uri": "https://localhost:8080/"
        },
        "id": "mLWW22CvqNtf",
        "outputId": "10da412f-b95a-4f7d-8511-2ac5d6604632"
      },
      "source": [
        "df.isnull().sum()"
      ],
      "execution_count": 12,
      "outputs": [
        {
          "output_type": "execute_result",
          "data": {
            "text/plain": [
              "Year          0\n",
              "City          0\n",
              "Sport         0\n",
              "Discipline    0\n",
              "Athlete       0\n",
              "Country       4\n",
              "Gender        0\n",
              "Event         0\n",
              "Medal         0\n",
              "dtype: int64"
            ]
          },
          "metadata": {},
          "execution_count": 12
        }
      ]
    },
    {
      "cell_type": "code",
      "metadata": {
        "id": "S3MyPVOTq1b2"
      },
      "source": [
        "df.dropna(subset=['Country'], inplace=True)"
      ],
      "execution_count": 17,
      "outputs": []
    },
    {
      "cell_type": "code",
      "metadata": {
        "colab": {
          "base_uri": "https://localhost:8080/"
        },
        "id": "VF_9F-AwrkGn",
        "outputId": "63a89f4a-3d53-4926-be02-12b88c95fb4b"
      },
      "source": [
        "df.isnull().sum()"
      ],
      "execution_count": 18,
      "outputs": [
        {
          "output_type": "execute_result",
          "data": {
            "text/plain": [
              "Year          0\n",
              "City          0\n",
              "Sport         0\n",
              "Discipline    0\n",
              "Athlete       0\n",
              "Country       0\n",
              "Gender        0\n",
              "Event         0\n",
              "Medal         0\n",
              "dtype: int64"
            ]
          },
          "metadata": {},
          "execution_count": 18
        }
      ]
    },
    {
      "cell_type": "code",
      "metadata": {
        "colab": {
          "base_uri": "https://localhost:8080/"
        },
        "id": "ZbIY-WkKqYau",
        "outputId": "31a9b693-45d9-48f6-8480-8969d4f6ef36"
      },
      "source": [
        "df.Sport.unique()"
      ],
      "execution_count": 20,
      "outputs": [
        {
          "output_type": "execute_result",
          "data": {
            "text/plain": [
              "array(['Aquatics', 'Athletics', 'Cycling', 'Fencing', 'Gymnastics',\n",
              "       'Shooting', 'Tennis', 'Weightlifting', 'Wrestling', 'Archery',\n",
              "       'Basque Pelota', 'Cricket', 'Croquet', 'Equestrian', 'Football',\n",
              "       'Golf', 'Polo', 'Rowing', 'Rugby', 'Sailing', 'Tug of War',\n",
              "       'Boxing', 'Lacrosse', 'Roque', 'Hockey', 'Jeu de paume', 'Rackets',\n",
              "       'Skating', 'Water Motorsports', 'Modern Pentathlon', 'Ice Hockey',\n",
              "       'Basketball', 'Canoe / Kayak', 'Handball', 'Judo', 'Volleyball',\n",
              "       'Table Tennis', 'Badminton', 'Baseball', 'Softball', 'Taekwondo',\n",
              "       'Triathlon', 'Canoe'], dtype=object)"
            ]
          },
          "metadata": {},
          "execution_count": 20
        }
      ]
    },
    {
      "cell_type": "code",
      "metadata": {
        "colab": {
          "base_uri": "https://localhost:8080/"
        },
        "id": "KjPicmKxqnNn",
        "outputId": "9017167c-b754-42d8-cb1f-46e71ae361b3"
      },
      "source": [
        "df.Sport.nunique()"
      ],
      "execution_count": 21,
      "outputs": [
        {
          "output_type": "execute_result",
          "data": {
            "text/plain": [
              "43"
            ]
          },
          "metadata": {},
          "execution_count": 21
        }
      ]
    },
    {
      "cell_type": "code",
      "metadata": {
        "colab": {
          "base_uri": "https://localhost:8080/"
        },
        "id": "Q0MKdIi6r0e5",
        "outputId": "4b266c74-bee6-4d04-c55c-756bdc0fbfd2"
      },
      "source": [
        "df.City.unique()"
      ],
      "execution_count": 23,
      "outputs": [
        {
          "output_type": "execute_result",
          "data": {
            "text/plain": [
              "array(['Athens', 'Paris', 'St Louis', 'London', 'Stockholm', 'Antwerp',\n",
              "       'Amsterdam', 'Los Angeles', 'Berlin', 'Helsinki',\n",
              "       'Melbourne / Stockholm', 'Rome', 'Tokyo', 'Mexico', 'Munich',\n",
              "       'Montreal', 'Moscow', 'Seoul', 'Barcelona', 'Atlanta', 'Sydney',\n",
              "       'Beijing'], dtype=object)"
            ]
          },
          "metadata": {},
          "execution_count": 23
        }
      ]
    },
    {
      "cell_type": "code",
      "metadata": {
        "colab": {
          "base_uri": "https://localhost:8080/"
        },
        "id": "hg7mebJ2r-tf",
        "outputId": "e05c79e6-b54e-44d8-8b41-51dd0d5c446e"
      },
      "source": [
        "df.City.nunique()"
      ],
      "execution_count": 24,
      "outputs": [
        {
          "output_type": "execute_result",
          "data": {
            "text/plain": [
              "22"
            ]
          },
          "metadata": {},
          "execution_count": 24
        }
      ]
    },
    {
      "cell_type": "code",
      "metadata": {
        "colab": {
          "base_uri": "https://localhost:8080/"
        },
        "id": "hN0rG9PWsJ6Y",
        "outputId": "8a91f193-a759-4416-a5b1-cb77a671663c"
      },
      "source": [
        "df.Country.unique()"
      ],
      "execution_count": 26,
      "outputs": [
        {
          "output_type": "execute_result",
          "data": {
            "text/plain": [
              "array(['HUN', 'AUT', 'GRE', 'USA', 'GER', 'GBR', 'FRA', 'AUS', 'DEN',\n",
              "       'SUI', 'ZZX', 'NED', 'BEL', 'IND', 'CAN', 'BOH', 'SWE', 'NOR',\n",
              "       'ESP', 'ITA', 'CUB', 'ANZ', 'RSA', 'FIN', 'RU1', 'EST', 'TCH',\n",
              "       'NZL', 'BRA', 'JPN', 'LUX', 'ARG', 'POL', 'POR', 'URU', 'YUG',\n",
              "       'ROU', 'HAI', 'EGY', 'PHI', 'IRL', 'CHI', 'LAT', 'MEX', 'TUR',\n",
              "       'PAN', 'JAM', 'SRI', 'KOR', 'PUR', 'PER', 'IRI', 'TRI', 'URS',\n",
              "       'VEN', 'BUL', 'LIB', 'EUA', 'ISL', 'PAK', 'BAH', 'BWI', 'TPE',\n",
              "       'ETH', 'MAR', 'GHA', 'IRQ', 'SIN', 'TUN', 'KEN', 'NGR', 'GDR',\n",
              "       'FRG', 'UGA', 'CMR', 'MGL', 'PRK', 'COL', 'NIG', 'THA', 'BER',\n",
              "       'TAN', 'GUY', 'ZIM', 'CHN', 'CIV', 'ZAM', 'DOM', 'ALG', 'SYR',\n",
              "       'SUR', 'CRC', 'INA', 'SEN', 'DJI', 'AHO', 'ISV', 'EUN', 'NAM',\n",
              "       'QAT', 'LTU', 'MAS', 'CRO', 'ISR', 'SLO', 'IOP', 'RUS', 'UKR',\n",
              "       'ECU', 'BDI', 'MOZ', 'CZE', 'BLR', 'TGA', 'KAZ', 'UZB', 'SVK',\n",
              "       'MDA', 'GEO', 'HKG', 'ARM', 'AZE', 'BAR', 'KSA', 'KGZ', 'KUW',\n",
              "       'VIE', 'MKD', 'SCG', 'ERI', 'PAR', 'UAE', 'SRB', 'SUD', 'MRI',\n",
              "       'TOG', 'TJK', 'AFG', 'BRN', 'GUA', 'GRN', 'TTO', 'BOT', 'MNE',\n",
              "       'CYP', 'SGP', 'GAB'], dtype=object)"
            ]
          },
          "metadata": {},
          "execution_count": 26
        }
      ]
    },
    {
      "cell_type": "code",
      "metadata": {
        "colab": {
          "base_uri": "https://localhost:8080/"
        },
        "id": "9fUnPfPysZ5-",
        "outputId": "216244c2-826a-4c47-95fe-3eced06d525a"
      },
      "source": [
        "df.Country.nunique()"
      ],
      "execution_count": 27,
      "outputs": [
        {
          "output_type": "execute_result",
          "data": {
            "text/plain": [
              "147"
            ]
          },
          "metadata": {},
          "execution_count": 27
        }
      ]
    },
    {
      "cell_type": "code",
      "metadata": {
        "colab": {
          "base_uri": "https://localhost:8080/"
        },
        "id": "mVTZ3nhBseJv",
        "outputId": "8cc38d46-8371-4b12-88e7-3d0342613f2c"
      },
      "source": [
        "df.Event.unique()"
      ],
      "execution_count": 31,
      "outputs": [
        {
          "output_type": "execute_result",
          "data": {
            "text/plain": [
              "array(['100M Freestyle', '100M Freestyle For Sailors', '1200M Freestyle',\n",
              "       '400M Freestyle', '100M', '110M Hurdles', '1500M', '400M', '800M',\n",
              "       'Discus Throw', 'High Jump', 'Long Jump', 'Marathon', 'Pole Vault',\n",
              "       'Shot Put', 'Triple Jump', 'Individual Road Race', '100KM', '10KM',\n",
              "       '12-Hour Race', '1KM Time Trial', 'Sprint Indivual',\n",
              "       'Foil Individual', 'Foil, Masters', 'Sabre Individual',\n",
              "       'Horizontal Bar', 'Parallel Bars', 'Pommel Horse', 'Rings',\n",
              "       'Rope Climbing', 'Team, Horizontal Bar', 'Team, Parallel Bars',\n",
              "       'Vault', '25M Army Pistol', '25M Rapid Fire Pistol (60 Shots)',\n",
              "       '50M Pistol (60 Shots)', 'Army Rifle, 200M', 'Army Rifle, 300M',\n",
              "       'Doubles', 'Singles', 'Heavyweight - One Hand Lift',\n",
              "       'Heavyweight - Two Hand Lift', 'Open Event', '1500M Freestyle',\n",
              "       '200M Backstroke', '200M Freestyle', '200M Obstacle Event',\n",
              "       '200M Team Swimming', '4000M Freestyle', 'Underwater Swimming',\n",
              "       'Water Polo', 'Au Chapelet, 33M', 'Au Chapelet, 50M',\n",
              "       'Au Cordon Doré, 33M', 'Au Cordon Doré, 50M',\n",
              "       'Sur La Perche À La Herse', 'Sur La Perche À La Pyramide', '200M',\n",
              "       '200M Hurdles', '3000M Steeplechase', '4000M Steeplechase',\n",
              "       '400M Hurdles', '5000M Team', '60M', 'Hammer Throw',\n",
              "       'High Jump, Standing', 'Long Jump, Standing',\n",
              "       'Triple Jump, Standing', 'Cesta Punta', 'Cricket', 'Double',\n",
              "       'Individual 1 Ball', 'Individual 2 Balls', '25 Kilometres',\n",
              "       'Individual', 'Long Jump Individual', 'Épée Individual',\n",
              "       'Épée, Amateurs And Masters', 'Épée, Masters', 'Sabre, Masters',\n",
              "       'Football', 'Individual All-Round', 'Polo',\n",
              "       'Eight With Coxswain (8+)', 'Four-Oared Shell With Coxswain (4-)',\n",
              "       'Pair-Oared Shell With Coxswain (2+)', 'Single Sculls (1X)',\n",
              "       'Rugby', '0.5-1T', '10-20T', '3-10T', 'Open Class',\n",
              "       '50M Army Pistol, Team', 'Army Rifle, 300M, 3 Positions',\n",
              "       'Army Rifle, 300M, Kneeling', 'Army Rifle, 300M, Prone',\n",
              "       'Army Rifle, 300M, Standing', 'Free Rifle, Team',\n",
              "       'Trap (125 Targets)', 'Mixed Doubles', 'Tug Of War',\n",
              "       '10M Platform', 'Plunge For Distance', '100M Backstroke',\n",
              "       '400M Breaststroke', '4X50Y Freestyle Relay',\n",
              "       '50Y Freestyle (45.72M)', '880Y Freestyle (804.66M)',\n",
              "       'Double American Round (60Y - 50Y - 40Y)',\n",
              "       'Double Columbia Round (50Y - 40Y - 30Y)',\n",
              "       'Double National Round (60Y - 50Y)',\n",
              "       'Double York Round (100Y - 80Y - 60Y)', 'Team Round 60Y',\n",
              "       'Teams Fita Round', '4Miles Team', '56LB Weight Throw (25.4KG)',\n",
              "       'Decathlon', 'Triathlon (Long Jump / Shot Put / 100 Yards)',\n",
              "       '- 47.63KG (Flyweight)', '+ 71.67KG (Heavyweight)',\n",
              "       '47.63 - 52.16KG (Bantamweight)', '52.16 - 56.7KG (Featherweight)',\n",
              "       '56.7 - 61.24KG (Lightweight)', '61.24 - 65.77KG (Welterweight)',\n",
              "       '65.77 - 71.67KG (Middleweight)', '1 Mile (1609.3M)',\n",
              "       '1/2 Mile (804.7M)', '1/3 Mile (536.5M)', '1/4 Mile (402.3M)',\n",
              "       '2 Miles (3.218KM)', '25 Miles (40.232KM)', '5 Miles (8.046KM)',\n",
              "       'Foil Team', 'Stick, Single', 'Team', 'Club Swinging',\n",
              "       'Combined 3 Events', 'Combined 4 Events', 'Team Competition',\n",
              "       'Lacrosse', 'Coxless Pair (2-)', 'Double Sculls (2X)',\n",
              "       'Four Without Coxswain (4-)', 'All-Around Dumbbell Contest',\n",
              "       '- 47.6KG (Light-Flyweight)', '47.6 - 52.16KG (Flyweight)',\n",
              "       '52.16 - 56.7KG (Bantamweight)', '56.7 - 61.23KG (Featherweight)',\n",
              "       '61.23 - 65.77KG (Lightweight)', '65.77 - 71.67KG (Welterweight)',\n",
              "       '3M Springboard', '200M Breaststroke', '4X200M Freestyle Relay',\n",
              "       'Continental Style 50M', 'National Round (60Y - 50Y)',\n",
              "       'York Round (100Y - 80Y - 60Y)', '10Miles Walk (16093M)',\n",
              "       '3200M Steeplechase', '3500M Walk', '3Miles Team (4828M)',\n",
              "       '4X400M Relay', '5 Miles (8047M)', 'Discus Throw Ancient Style',\n",
              "       'Javelin Throw', 'Javelin Throw Freestyle',\n",
              "       '- 52.62KG (Bantamweight)', '52.62 - 57.15KG (Featherweight)',\n",
              "       '57.15 - 63.5KG (Lightweight)', '63.5 - 71.67KG (Middleweight)',\n",
              "       '1980 Yards Pursuit, Team', '2000M Tandem', '20KM', '5000M',\n",
              "       'One Lap (660Y) Sprint', 'Épée Team', 'Sabre Team', 'Hockey',\n",
              "       '12M', '6M', '7M', '8M', '1000Y Free Rifle, Prone',\n",
              "       '100M Running Deer, Double Shots',\n",
              "       '100M Running Deer, Single Shots',\n",
              "       '100M Running Deer, Single Shots, Team',\n",
              "       '25Y Small Bore Rifle, Disappearing Target',\n",
              "       '25Y Small Bore Rifle, Moving Target',\n",
              "       '300M Free Rifle 3 Positions (3X40 Shots)',\n",
              "       '50+100Y Small Bore Rifle, Team', '50M Rifle Prone (60 Shots)',\n",
              "       '50Y Army Pistol, Team', 'Clay Pigeons, Team', 'Rifle, Team',\n",
              "       'Pairs', 'Special Figures', 'Doubles Indoor', 'Singles Indoor',\n",
              "       '8M Class C', 'Class B Up To 60 Feet', 'Open Class A',\n",
              "       '- 54KG (Bantamweight)', '+ 73KG (Heavyweight)',\n",
              "       '54 - 60.3KG (Featherweight)', '60.3 - 66.6KG (Lightweight)',\n",
              "       '66.6 - 73KG (Middleweight)', '- 66.6KG (Lightweight)',\n",
              "       '+ 93KG (Super Heavyweight)', '73 - 93KG (Light-Heavyweight)',\n",
              "       'Plain High Diving', '4X100M Freestyle Relay', '10000M',\n",
              "       '10000M Walk', '3000M Team', '4X100M Relay',\n",
              "       'Cross Country Individual', 'Cross Country Team',\n",
              "       'Discus Throw, Both Hands', 'Javelin Throw, Both Hands',\n",
              "       'Pentathlon', 'Shot Put, Both Hands', 'Individual Time Trial',\n",
              "       'Team Time Trial', 'Team, Free System', 'Team, Swedish System',\n",
              "       'Individual Competition', 'Coxed Fours Jugriggers', '10M',\n",
              "       '25M Small Bore Rifle, Team', '25M Small Rifle',\n",
              "       '30M Army Pistol, Team', '50M Small Bore Rifle, Team',\n",
              "       '600M Free Rifle', 'Mixed Doubles Indoor',\n",
              "       '- 60KG (Featherweight)', '+ 82.5KG (Super Heavyweight)',\n",
              "       '60 - 67.5KG (Lightweight)', '67.5 - 75KG (Middleweight)',\n",
              "       '75 - 82.5KG (Light-Heavyweight)', 'Fixed Bird Target Large Birds',\n",
              "       'Fixed Bird Target Large Birds Teams',\n",
              "       'Fixed Bird Target Small Bird, Teams',\n",
              "       'Fixed Bird Target Small Birds', 'Moving Bird Target 28M Teams',\n",
              "       'Moving Bird Target 33M Teams', 'Moving Bird Target 50M Teams',\n",
              "       'Moving Bird Target, 28M', 'Moving Bird Target, 33M',\n",
              "       'Moving Bird Target, 50M', '3000M Walk', '- 50.8KG (Flyweight)',\n",
              "       '+ 79.38KG (Heavyweight)', '50.8 - 53.52KG (Bantamweight)',\n",
              "       '53.52 - 57.15KG (Featherweight)', '57.15 - 61.24KG (Lightweight)',\n",
              "       '61.24 - 66.68KG (Welterweight)', '66.68 - 72.57KG (Middleweight)',\n",
              "       '72.57 - 79.38KG (Light-Heavyweight)', '50KM',\n",
              "       'Team Pursuit (4000M)', 'Figure Riding Individual',\n",
              "       'Figure Riding Team', 'Ice Hockey', '10M (Rating 1907)',\n",
              "       '10M (Rating 1919)', '12 Foot Dinghy', '12M (Rating 1907)',\n",
              "       '12M (Rating 1919)', '18 Foot Dinghy', '30M Sq', '40M Sq',\n",
              "       '6.5M (Rating 1919)', '6M (Rating 1907)', '6M (Rating 1919)',\n",
              "       '8M (Rating 1907)', '8M (Rating 1919)',\n",
              "       '100M Running Deer, Double Shots, Team',\n",
              "       '300+600M Free Rifle, Team, Prone', '300M Free Rifle, Prone, Team',\n",
              "       '300M Free Rifle, Standing, Team',\n",
              "       '50M Small Bore Rifle, Standing, Individual',\n",
              "       '600M Free Rifle, Prone', '600M Free Rifle, Team',\n",
              "       '- 60KG, One-Two Hand 3 Events (Featherweight)',\n",
              "       '+ 82.5KG, One-Two Hand 3 Events (Heavyweight)',\n",
              "       '60 - 67.5KG, One-Two Hand 3 Events (Lightweight)',\n",
              "       '67.5 - 75KG, One-Two Hand 3 Events (Middleweight)',\n",
              "       '75 - 82.5KG, One-Two Hand 3 E. (Light-Heavyweight)',\n",
              "       '+ 80KG (Heavyweight)', '75 - 80KG (Light-Heavyweight)',\n",
              "       '+ 82KG (Super Heavyweight)', '75 - 82KG (Light-Heavyweight)',\n",
              "       'Sidehorse Vault', 'Olympic Class Monotype',\n",
              "       '400, 600, 800M Free Rifle, Team', '600M Free Rifle, Individual',\n",
              "       '- 60KG, One-Two Hand 5 Events (Featherweight)',\n",
              "       '+ 82.5KG, One-Two Hand 5 Events (Heavyweight)',\n",
              "       '60 - 67.5KG, One-Two Hand 5 Events (Lightweight)',\n",
              "       '67.5 - 75KG, One-Two Hand 5 Events (Middleweight)',\n",
              "       '75 - 82.5KG, One-Two Hand 5 E. (Light-Heavyweight)',\n",
              "       '- 56KG (Bantamweight)', '+ 87KG (Heavyweight)',\n",
              "       '56 - 61KG (Featherweight)', '61 - 66KG (Lightweight)',\n",
              "       '66 - 72KG (Welterweight)', '72 - 79KG (Middleweight)',\n",
              "       '79 - 87KG (Light-Heavyweight)', '- 58KG (Bantamweight)',\n",
              "       '58 - 62KG (Featherweight)', '62 - 67.5KG (Lightweight)',\n",
              "       '1KM Pursuit', '12 Foot Dinghy Individual',\n",
              "       '- 60KG, Total (Featherweight)', '+ 82.5KG, Total (Heavyweight)',\n",
              "       '60 - 67.5KG, Total (Lightweight)',\n",
              "       '67.5 - 75KG, Total (Middleweight)',\n",
              "       '75 - 82.5KG, Total (Light-Heavyweight)',\n",
              "       '58 - 60KG (Featherweight)', '50KM Walk', '80M Hurdles',\n",
              "       '50.8 - 54KG (Bantamweight)', '54 - 57.15KG (Featherweight)',\n",
              "       'Floor Exercises', 'Indian Clubs', 'Tumbling',\n",
              "       'Two-Person Keelboat Open (Star)', '+ 87KG (Super Heavyweight)',\n",
              "       'Basketball', 'C-1 1000M (Canoe Single)', 'C-2 10000M',\n",
              "       'C-2 1000M (Canoe Double)', 'Folding K-1 10000M',\n",
              "       'Folding K-2 10000M', 'K-1 10000M', 'K-1 1000M (Kayak Single)',\n",
              "       'K-2 10000M', 'K-2 1000M (Kayak Double)', 'Handball',\n",
              "       '- 51KG (Flyweight)', '51 - 54KG (Bantamweight)',\n",
              "       '54 - 58KG (Featherweight)', '58 - 62KG (Lightweight)',\n",
              "       '62 - 67KG (Welterweight)', '67 - 73KG (Middleweight)',\n",
              "       '73 - 80KG (Light-Heavyweight)', 'C-1 10000M',\n",
              "       'K-1 500M (Kayak Single)', 'Dragon', 'Firefly Class',\n",
              "       'Swallow (Golondrina)', '- 56KG, Total (Bantamweight)',\n",
              "       '56 - 60KG, Total (Featherweight)', '- 52KG (Flyweight)',\n",
              "       '52 - 57KG (Bantamweight)', '57 - 63KG (Featherweight)',\n",
              "       '63 - 67KG (Lightweight)', '67 - 73KG (Welterweight)',\n",
              "       '73 - 79KG (Middleweight)', '57 - 61KG (Featherweight)',\n",
              "       '61 - 67KG (Lightweight)', '+ 81KG (Heavyweight)',\n",
              "       '54 - 57KG (Featherweight)', '57 - 60KG (Lightweight)',\n",
              "       '60 - 63.5KG (Light-Welterweight)', '63.5 - 67KG (Welterweight)',\n",
              "       '67 - 71KG (Light-Middleweight)', '71-75KG',\n",
              "       '75 - 81KG (Light-Heavyweight)', 'Balance Beam',\n",
              "       'Team, Portable Apparatus', 'Uneven Bars', '5.5M',\n",
              "       'Single-Handed Dinghy (Finn)',\n",
              "       '100M Running Deer, Single/Double Shots',\n",
              "       '50M Rifle 3 Positions (3X40 Shots)',\n",
              "       '+ 90KG, Total (Heavyweight)',\n",
              "       '82.5 - 90KG, Total (Middle-Heavyweight)', '100M Butterfly',\n",
              "       '200M Butterfly', '20KM Walk', 'Sharpie 12M2',\n",
              "       '4X100M Medley Relay', 'K-1 4X500M', 'K-2 500M (Kayak Double)',\n",
              "       'Flying Dutchman', '400M Individual Medley',\n",
              "       'K-4 1000M (Kayak Four)', 'Individual Pursuit',\n",
              "       '- 68KG (Lightweight)', '68 - 80KG (Middleweight)',\n",
              "       'Open Category', 'Volleyball', '+ 97KG (Heavyweight)',\n",
              "       '63 - 70KG (Lightweight)', '70 - 78KG (Welterweight)',\n",
              "       '78 - 87KG (Middleweight)', '87 - 97KG (Light-Heavyweight)',\n",
              "       '+ 97KG (Super Heavyweight)', '100M Breaststroke',\n",
              "       '200M Individual Medley', '800M Freestyle',\n",
              "       '- 48KG (Light-Flyweight)', '48 - 51KG (Flyweight)',\n",
              "       'Skeet (125 Targets)', 'Individual Fita Round', '100M Hurdles',\n",
              "       'C-1 (Canoe Single)', 'C-2 (Canoe Double)', 'K-1 (Kayak Single)',\n",
              "       '- 63KG (Lightweight)', '+ 93KG (Heavyweight)',\n",
              "       '63 - 70KG (Half-Middleweight)', '70 - 80KG (Middleweight)',\n",
              "       '80 - 93KG (Half-Heavyweight)',\n",
              "       'Fleet/Match Race Keelboat Open (Soling)', 'Tempest',\n",
              "       '50M Running Target (30+30 Shots)', '- 52KG, Total (Flyweight)',\n",
              "       '+ 110KG, Total (Super Heavyweight)',\n",
              "       '52 - 56KG, Total (Bantamweight)',\n",
              "       '91 - 110KG, Total (Heavyweight)', '+ 100KG (Super Heavyweight)',\n",
              "       '48 - 52KG (Flyweight)', '57 - 62KG (Featherweight)',\n",
              "       '62 - 68KG (Lightweight)', '68 - 74KG (Welterweight)',\n",
              "       '74 - 82KG (Middleweight)', '82 - 90KG (Light-Heavyweight)',\n",
              "       '90 - 100KG (Heavyweight)', 'C-1 500M (Canoe Single)',\n",
              "       'C-2 500M (Canoe Double)', 'Pair Without Coxswain (2-)',\n",
              "       'Quadruple Sculls With Coxswain (4X)',\n",
              "       'Quadruple Sculls Without Coxswain (4X)',\n",
              "       '470 - Two Person Dinghy', 'Tornado - Multihull', '- 60 KG',\n",
              "       '+ 95KG (Heavyweight)', '60 - 65KG (Half-Lightweight)',\n",
              "       '65 - 71KG (Lightweight)', '71 - 78KG (Half-Middleweight)',\n",
              "       '78 - 86KG (Middleweight)', '86 - 95KG (Half-Heavyweight)',\n",
              "       '100 - 110KG, Total (Heavyweight)',\n",
              "       '90 - 100KG, Total (First-Heavyweight)', 'Duet', 'Solo', '3000M',\n",
              "       'Heptathlon', '+ 91KG (Super Heavyweight)',\n",
              "       '81 - 91KG (Heavyweight)', 'K-4 500M (Kayak Four)', 'Points Race',\n",
              "       'Board (Windglider)', '10M Air Rifle (40 Shots)',\n",
              "       '10M Air Rifle (60 Shots)', '25M Pistol (30+30 Shots)',\n",
              "       '50M Rifle 3 Positions (3X20 Shots)', '50M Freestyle', 'Sprint',\n",
              "       'Board (Division Ii)', '10M Air Pistol (40 Shots)',\n",
              "       '10M Air Pistol (60 Shots)', '100 - 130KG (Super Heavyweight)',\n",
              "       'Individual (Fita Olympic Round - 70M)',\n",
              "       'Team (Fita Olympic Round - 70M)', 'Baseball',\n",
              "       '- 48KG (Extra-Lightweight)', '+ 72KG (Heavyweight)',\n",
              "       '48 - 52KG (Half-Lightweight)', '52 - 56KG (Lightweight)',\n",
              "       '56 - 61KG (Half-Middleweight)', '61 - 66KG (Middleweight)',\n",
              "       '66 - 72KG (Half-Heavyweight)', 'Coxless Four (4-)',\n",
              "       'Board (Lechner)', 'Single-Handed Dinghy (Europe)',\n",
              "       'Cross-Country', 'Group Competition', '+ 100KG (Heavyweight)',\n",
              "       '60 - 66KG (Half-Lightweight)', '66 - 73KG (Lightweight)',\n",
              "       '73 - 81KG (Half-Middleweight)', '81 - 90KG (Middleweight)',\n",
              "       '90 - 100KG (Half-Heavyweight)', 'Lightweight Coxless Four (4-)',\n",
              "       'Lightweight Double Sculls (2X)', 'Board (Mistral)',\n",
              "       'Single-Handed Dinghy Open (Laser)', 'Double Trap (120 Targets)',\n",
              "       'Double Trap (150 Targets)', 'Softball', 'Beach Volleyball',\n",
              "       '- 54KG, Total (Flyweight)', '+ 108KG, Total (Super Heavyweight)',\n",
              "       '54 - 59KG, Total (Bantamweight)',\n",
              "       '59 - 64KG, Total (Featherweight)',\n",
              "       '64 - 70KG, Total (Lightweight)',\n",
              "       '70 - 76KG, Total (Middleweight)',\n",
              "       '76 - 83KG, Total (Light-Heavyweight)',\n",
              "       '83 - 91KG, Total (Middle-Heavyweight)',\n",
              "       '91 - 99KG, Total (First-Heavyweight)',\n",
              "       '99 - 108KG, Total (Heavyweight)',\n",
              "       'Synchronized Diving 10M Platform',\n",
              "       'Synchronized Diving 3M Springboard', '20KM Race Walk',\n",
              "       '500M Time Trial', 'Keirin', 'Madison', 'Olympic Sprint',\n",
              "       '+ 78KG (Heavyweight)', '52 - 57KG (Lightweight)',\n",
              "       '57 - 63KG (Half-Middleweight)', '63 - 70KG (Middleweight)',\n",
              "       '70 - 78KG (Half-Heavyweight)', '49Er - Skiff',\n",
              "       '10M Running Target (30+30 Shots)', 'Skeet (75 Targets)',\n",
              "       'Trap (75 Targets)', '- 49 KG', '- 58 KG', '+ 67 KG', '+ 80 KG',\n",
              "       '49 - 57 KG', '57 - 67 KG', '58 - 68 KG', '68 - 80 KG', '+ 105KG',\n",
              "       '+ 75KG', '105KG', '48KG', '53KG', '56KG', '58KG', '62KG', '63KG',\n",
              "       '69KG', '75KG', '77KG', '85KG', '94KG', '48 - 54KG', '54 - 58KG',\n",
              "       '58 - 63KG', '63 - 69KG', '69 - 76KG', '76 - 85KG', '85 - 97KG',\n",
              "       '97 - 130KG', '48KG (Light Flywieght)', '60 - 64 KG', '64 - 69 KG',\n",
              "       '69 - 75 KG', 'Team Sprint', '- 48 KG', 'Star - Keelboat',\n",
              "       'Yngling - Keelboat', '- 48KG', '- 55KG', '48 - 55KG', '55 - 60KG',\n",
              "       '55 - 63KG', '60 - 66KG', '63 - 72KG', '66 - 74KG', '74 - 84KG',\n",
              "       '84 - 96KG', '96 - 120KG', 'Marathon 10KM',\n",
              "       'Finn - Heavyweight Dinghy', 'Laser - One Person Dinghy',\n",
              "       'Laser Radial - One Person Dinghy', 'Rs:X - Windsurfer',\n",
              "       'Synchronized 10M', 'Synchronized 3M', '200M Medley',\n",
              "       '400M Medley', '4X100M Freestyle', '4X100M Medley',\n",
              "       '4X200M Freestyle', '3000M Steeple', '+ 91KG', '46 - 49KG',\n",
              "       '51 KG', '52KG', '57 - 60KG', '60 KG', '75 - 81KG', '75 KG',\n",
              "       '81 - 91KG', 'C-1 (Single)', 'C-2 (Double)', 'K-1 (Single)',\n",
              "       'C-1 1000M', 'C-1 200M', 'C-2 1000M', 'K-1 1000M', 'K-1 200M',\n",
              "       'K-1 500M', 'K-2 1000M', 'K-2 200M', 'K-2 500M', 'K-4 1000M',\n",
              "       'K-4 500M', 'Individual Road', 'Time Trial', 'Omnium',\n",
              "       'Team Pursuit', 'Beam', 'Individual All-Around', '+ 100KG',\n",
              "       '+ 78KG', '48 - 52KG', '52 - 57KG', '57 - 63KG', '63 - 70KG',\n",
              "       '66 - 73KG', '70 - 78KG', '73 - 81KG', '81 - 90KG', '90 - 100KG',\n",
              "       'Coxless Four', 'Coxless Pair 2-', 'Double Sculls',\n",
              "       'Eight With Coxswain', 'Lightweight 4', 'Lightweight Doubles',\n",
              "       'Quadruple Sculls', 'Single Sculls', '470', 'Elliott 6M', 'Finn',\n",
              "       'Laser', 'Laser Radial', 'Rs:X', 'Star', '10M Air Pistol',\n",
              "       '10M Air Rifle', '25M Pistol', '25M Rapid Pistol', '50M Pistol',\n",
              "       '50M Rifle 3 Positions', '50M Rifle Prone', 'Double Trap 150',\n",
              "       'Skeet', 'Trap', '+105KG', '+75KG', '-56KG', 'Wf 120KG',\n",
              "       'Wf 48 KG', 'Wf 55 KG', 'Wf 60 KG', 'Wf 63 KG', 'Wf 66 KG',\n",
              "       'Wf 72 KG', 'Wf 74 KG', 'Wf 84 KG', 'Wf 96 KG', 'Wg 120 KG',\n",
              "       'Wg 55 KG', 'Wg 60 KG', 'Wg 66 KG', 'Wg 74 KG', 'Wg 84 KG',\n",
              "       'Wg 96 KG'], dtype=object)"
            ]
          },
          "metadata": {},
          "execution_count": 31
        }
      ]
    },
    {
      "cell_type": "code",
      "metadata": {
        "colab": {
          "base_uri": "https://localhost:8080/"
        },
        "id": "58bw8Rjcsk7X",
        "outputId": "7e7e2a96-dec6-4a81-cab6-00b47b7758ec"
      },
      "source": [
        "df.Event.nunique()"
      ],
      "execution_count": 29,
      "outputs": [
        {
          "output_type": "execute_result",
          "data": {
            "text/plain": [
              "666"
            ]
          },
          "metadata": {},
          "execution_count": 29
        }
      ]
    },
    {
      "cell_type": "markdown",
      "metadata": {
        "id": "rp9VaKGxs2RH"
      },
      "source": [
        "#**Summer Olympics Data Analysis Assignment**"
      ]
    },
    {
      "cell_type": "markdown",
      "metadata": {
        "id": "EjCejwkbtQOW"
      },
      "source": [
        "1. ### **1. In how many cities Summer Olympics is held so far?**"
      ]
    },
    {
      "cell_type": "code",
      "metadata": {
        "colab": {
          "base_uri": "https://localhost:8080/"
        },
        "id": "emSl70DMspp2",
        "outputId": "24593b14-5ba6-4eec-c634-2946fb2c3690"
      },
      "source": [
        "df.City.unique()"
      ],
      "execution_count": 32,
      "outputs": [
        {
          "output_type": "execute_result",
          "data": {
            "text/plain": [
              "array(['Athens', 'Paris', 'St Louis', 'London', 'Stockholm', 'Antwerp',\n",
              "       'Amsterdam', 'Los Angeles', 'Berlin', 'Helsinki',\n",
              "       'Melbourne / Stockholm', 'Rome', 'Tokyo', 'Mexico', 'Munich',\n",
              "       'Montreal', 'Moscow', 'Seoul', 'Barcelona', 'Atlanta', 'Sydney',\n",
              "       'Beijing'], dtype=object)"
            ]
          },
          "metadata": {},
          "execution_count": 32
        }
      ]
    },
    {
      "cell_type": "code",
      "metadata": {
        "colab": {
          "base_uri": "https://localhost:8080/"
        },
        "id": "kZtzFZwmtl3P",
        "outputId": "14e400ee-139a-4ee1-aa40-1e68590cd43e"
      },
      "source": [
        "df.City.nunique()"
      ],
      "execution_count": 33,
      "outputs": [
        {
          "output_type": "execute_result",
          "data": {
            "text/plain": [
              "22"
            ]
          },
          "metadata": {},
          "execution_count": 33
        }
      ]
    },
    {
      "cell_type": "markdown",
      "metadata": {
        "id": "zhYgEnVztwwQ"
      },
      "source": [
        "### **2. Which sport is having most number of Gold Medals so far? (Top 5)**"
      ]
    },
    {
      "cell_type": "code",
      "metadata": {
        "id": "W2CmHioUtpOv"
      },
      "source": [
        "goldSports = df[df.Medal == 'Gold']"
      ],
      "execution_count": 35,
      "outputs": []
    },
    {
      "cell_type": "code",
      "metadata": {
        "colab": {
          "base_uri": "https://localhost:8080/",
          "height": 203
        },
        "id": "hJhXuvHLujlk",
        "outputId": "4cd46259-7aa3-42ff-c3e3-e2c4869f8cd3"
      },
      "source": [
        "goldSports.head()"
      ],
      "execution_count": 37,
      "outputs": [
        {
          "output_type": "execute_result",
          "data": {
            "text/html": [
              "<div>\n",
              "<style scoped>\n",
              "    .dataframe tbody tr th:only-of-type {\n",
              "        vertical-align: middle;\n",
              "    }\n",
              "\n",
              "    .dataframe tbody tr th {\n",
              "        vertical-align: top;\n",
              "    }\n",
              "\n",
              "    .dataframe thead th {\n",
              "        text-align: right;\n",
              "    }\n",
              "</style>\n",
              "<table border=\"1\" class=\"dataframe\">\n",
              "  <thead>\n",
              "    <tr style=\"text-align: right;\">\n",
              "      <th></th>\n",
              "      <th>Year</th>\n",
              "      <th>City</th>\n",
              "      <th>Sport</th>\n",
              "      <th>Discipline</th>\n",
              "      <th>Athlete</th>\n",
              "      <th>Country</th>\n",
              "      <th>Gender</th>\n",
              "      <th>Event</th>\n",
              "      <th>Medal</th>\n",
              "    </tr>\n",
              "  </thead>\n",
              "  <tbody>\n",
              "    <tr>\n",
              "      <th>0</th>\n",
              "      <td>1896</td>\n",
              "      <td>Athens</td>\n",
              "      <td>Aquatics</td>\n",
              "      <td>Swimming</td>\n",
              "      <td>HAJOS, Alfred</td>\n",
              "      <td>HUN</td>\n",
              "      <td>Men</td>\n",
              "      <td>100M Freestyle</td>\n",
              "      <td>Gold</td>\n",
              "    </tr>\n",
              "    <tr>\n",
              "      <th>3</th>\n",
              "      <td>1896</td>\n",
              "      <td>Athens</td>\n",
              "      <td>Aquatics</td>\n",
              "      <td>Swimming</td>\n",
              "      <td>MALOKINIS, Ioannis</td>\n",
              "      <td>GRE</td>\n",
              "      <td>Men</td>\n",
              "      <td>100M Freestyle For Sailors</td>\n",
              "      <td>Gold</td>\n",
              "    </tr>\n",
              "    <tr>\n",
              "      <th>6</th>\n",
              "      <td>1896</td>\n",
              "      <td>Athens</td>\n",
              "      <td>Aquatics</td>\n",
              "      <td>Swimming</td>\n",
              "      <td>HAJOS, Alfred</td>\n",
              "      <td>HUN</td>\n",
              "      <td>Men</td>\n",
              "      <td>1200M Freestyle</td>\n",
              "      <td>Gold</td>\n",
              "    </tr>\n",
              "    <tr>\n",
              "      <th>9</th>\n",
              "      <td>1896</td>\n",
              "      <td>Athens</td>\n",
              "      <td>Aquatics</td>\n",
              "      <td>Swimming</td>\n",
              "      <td>NEUMANN, Paul</td>\n",
              "      <td>AUT</td>\n",
              "      <td>Men</td>\n",
              "      <td>400M Freestyle</td>\n",
              "      <td>Gold</td>\n",
              "    </tr>\n",
              "    <tr>\n",
              "      <th>13</th>\n",
              "      <td>1896</td>\n",
              "      <td>Athens</td>\n",
              "      <td>Athletics</td>\n",
              "      <td>Athletics</td>\n",
              "      <td>BURKE, Thomas</td>\n",
              "      <td>USA</td>\n",
              "      <td>Men</td>\n",
              "      <td>100M</td>\n",
              "      <td>Gold</td>\n",
              "    </tr>\n",
              "  </tbody>\n",
              "</table>\n",
              "</div>"
            ],
            "text/plain": [
              "    Year    City      Sport  ... Gender                       Event Medal\n",
              "0   1896  Athens   Aquatics  ...    Men              100M Freestyle  Gold\n",
              "3   1896  Athens   Aquatics  ...    Men  100M Freestyle For Sailors  Gold\n",
              "6   1896  Athens   Aquatics  ...    Men             1200M Freestyle  Gold\n",
              "9   1896  Athens   Aquatics  ...    Men              400M Freestyle  Gold\n",
              "13  1896  Athens  Athletics  ...    Men                        100M  Gold\n",
              "\n",
              "[5 rows x 9 columns]"
            ]
          },
          "metadata": {},
          "execution_count": 37
        }
      ]
    },
    {
      "cell_type": "code",
      "metadata": {
        "id": "COG219lLufI6"
      },
      "source": [
        "record = []\n",
        "for i in goldSports['Sport'].unique():\n",
        "  record.append([i,len(goldSports[goldSports['Sport']==i])])\n",
        "record=pd.DataFrame(record, columns=['Sport', 'No. of Gold Medals']) \n",
        "record=record.sort_values(by='No. of Gold Medals', ascending=False).head()"
      ],
      "execution_count": 44,
      "outputs": []
    },
    {
      "cell_type": "code",
      "metadata": {
        "colab": {
          "base_uri": "https://localhost:8080/",
          "height": 203
        },
        "id": "QcYpSyezvRjw",
        "outputId": "ec63809d-f03b-44c7-c33c-e4072ca7de12"
      },
      "source": [
        "record"
      ],
      "execution_count": 45,
      "outputs": [
        {
          "output_type": "execute_result",
          "data": {
            "text/html": [
              "<div>\n",
              "<style scoped>\n",
              "    .dataframe tbody tr th:only-of-type {\n",
              "        vertical-align: middle;\n",
              "    }\n",
              "\n",
              "    .dataframe tbody tr th {\n",
              "        vertical-align: top;\n",
              "    }\n",
              "\n",
              "    .dataframe thead th {\n",
              "        text-align: right;\n",
              "    }\n",
              "</style>\n",
              "<table border=\"1\" class=\"dataframe\">\n",
              "  <thead>\n",
              "    <tr style=\"text-align: right;\">\n",
              "      <th></th>\n",
              "      <th>Sport</th>\n",
              "      <th>No. of Gold Medals</th>\n",
              "    </tr>\n",
              "  </thead>\n",
              "  <tbody>\n",
              "    <tr>\n",
              "      <th>0</th>\n",
              "      <td>Aquatics</td>\n",
              "      <td>1421</td>\n",
              "    </tr>\n",
              "    <tr>\n",
              "      <th>1</th>\n",
              "      <td>Athletics</td>\n",
              "      <td>1214</td>\n",
              "    </tr>\n",
              "    <tr>\n",
              "      <th>17</th>\n",
              "      <td>Rowing</td>\n",
              "      <td>890</td>\n",
              "    </tr>\n",
              "    <tr>\n",
              "      <th>4</th>\n",
              "      <td>Gymnastics</td>\n",
              "      <td>820</td>\n",
              "    </tr>\n",
              "    <tr>\n",
              "      <th>3</th>\n",
              "      <td>Fencing</td>\n",
              "      <td>552</td>\n",
              "    </tr>\n",
              "  </tbody>\n",
              "</table>\n",
              "</div>"
            ],
            "text/plain": [
              "         Sport  No. of Gold Medals\n",
              "0     Aquatics                1421\n",
              "1    Athletics                1214\n",
              "17      Rowing                 890\n",
              "4   Gymnastics                 820\n",
              "3      Fencing                 552"
            ]
          },
          "metadata": {},
          "execution_count": 45
        }
      ]
    },
    {
      "cell_type": "code",
      "metadata": {
        "colab": {
          "base_uri": "https://localhost:8080/",
          "height": 399
        },
        "id": "GqgbofO6vjrI",
        "outputId": "37821078-8f44-4615-f86e-10054d92e8da"
      },
      "source": [
        "record.plot(x= 'Sport', y='No. of Gold Medals', kind='bar', figsize=(10, 5))"
      ],
      "execution_count": 50,
      "outputs": [
        {
          "output_type": "execute_result",
          "data": {
            "text/plain": [
              "<matplotlib.axes._subplots.AxesSubplot at 0x7f04e3e87910>"
            ]
          },
          "metadata": {},
          "execution_count": 50
        },
        {
          "output_type": "display_data",
          "data": {
            "image/png": "[encoded data removed]",
            "text/plain": [
              "<Figure size 720x360 with 1 Axes>"
            ]
          },
          "metadata": {
            "needs_background": "light"
          }
        }
      ]
    },
    {
      "cell_type": "markdown",
      "metadata": {
        "id": "muXGm73xwvGy"
      },
      "source": [
        "### **3. Which sport is having most number of medals so far? (Top 5)**"
      ]
    },
    {
      "cell_type": "code",
      "metadata": {
        "id": "yNj26x8Ww5KL"
      },
      "source": [
        "data=[]\n",
        "for i in df['Sport'].unique():\n",
        "    data.append([i, len(df[df['Sport'] == i])])\n",
        "data=pd.DataFrame(data, columns=['Sport','No. of Medals']) \n",
        "data=data.sort_values(by='No. of Medals', ascending=False).head()"
      ],
      "execution_count": 55,
      "outputs": []
    },
    {
      "cell_type": "code",
      "metadata": {
        "colab": {
          "base_uri": "https://localhost:8080/",
          "height": 203
        },
        "id": "HXHY2UOtw5HN",
        "outputId": "44ff9d68-8df6-46b9-9889-808b19235795"
      },
      "source": [
        "data"
      ],
      "execution_count": 56,
      "outputs": [
        {
          "output_type": "execute_result",
          "data": {
            "text/html": [
              "<div>\n",
              "<style scoped>\n",
              "    .dataframe tbody tr th:only-of-type {\n",
              "        vertical-align: middle;\n",
              "    }\n",
              "\n",
              "    .dataframe tbody tr th {\n",
              "        vertical-align: top;\n",
              "    }\n",
              "\n",
              "    .dataframe thead th {\n",
              "        text-align: right;\n",
              "    }\n",
              "</style>\n",
              "<table border=\"1\" class=\"dataframe\">\n",
              "  <thead>\n",
              "    <tr style=\"text-align: right;\">\n",
              "      <th></th>\n",
              "      <th>Sport</th>\n",
              "      <th>No. of Medals</th>\n",
              "    </tr>\n",
              "  </thead>\n",
              "  <tbody>\n",
              "    <tr>\n",
              "      <th>0</th>\n",
              "      <td>Aquatics</td>\n",
              "      <td>4170</td>\n",
              "    </tr>\n",
              "    <tr>\n",
              "      <th>1</th>\n",
              "      <td>Athletics</td>\n",
              "      <td>3637</td>\n",
              "    </tr>\n",
              "    <tr>\n",
              "      <th>17</th>\n",
              "      <td>Rowing</td>\n",
              "      <td>2667</td>\n",
              "    </tr>\n",
              "    <tr>\n",
              "      <th>4</th>\n",
              "      <td>Gymnastics</td>\n",
              "      <td>2307</td>\n",
              "    </tr>\n",
              "    <tr>\n",
              "      <th>3</th>\n",
              "      <td>Fencing</td>\n",
              "      <td>1613</td>\n",
              "    </tr>\n",
              "  </tbody>\n",
              "</table>\n",
              "</div>"
            ],
            "text/plain": [
              "         Sport  No. of Medals\n",
              "0     Aquatics           4170\n",
              "1    Athletics           3637\n",
              "17      Rowing           2667\n",
              "4   Gymnastics           2307\n",
              "3      Fencing           1613"
            ]
          },
          "metadata": {},
          "execution_count": 56
        }
      ]
    },
    {
      "cell_type": "code",
      "metadata": {
        "colab": {
          "base_uri": "https://localhost:8080/",
          "height": 399
        },
        "id": "3G6odrLqw5ET",
        "outputId": "0400504e-1369-4554-a66f-878211841c2e"
      },
      "source": [
        "data.plot(x= 'Sport', y='No. of Medals', kind='bar', figsize=(10, 5))"
      ],
      "execution_count": 57,
      "outputs": [
        {
          "output_type": "execute_result",
          "data": {
            "text/plain": [
              "<matplotlib.axes._subplots.AxesSubplot at 0x7f04e3e0ad10>"
            ]
          },
          "metadata": {},
          "execution_count": 57
        },
        {
          "output_type": "display_data",
          "data": {
            "image/png": "[encoded data removed]",
            "text/plain": [
              "<Figure size 720x360 with 1 Axes>"
            ]
          },
          "metadata": {
            "needs_background": "light"
          }
        }
      ]
    },
    {
      "cell_type": "markdown",
      "metadata": {
        "id": "yBDxatdIxyk0"
      },
      "source": [
        "### **4. Which player has won most number of medals? (Top 5)**"
      ]
    },
    {
      "cell_type": "code",
      "metadata": {
        "id": "nCMUaXU8waMi"
      },
      "source": [
        "data=[]\n",
        "for i in df['Athlete'].unique():\n",
        "    data.append([i, len(df[df['Athlete'] == i])])\n",
        "data=pd.DataFrame(data, columns=['Athlete','No. of Medals']) \n"
      ],
      "execution_count": 59,
      "outputs": []
    },
    {
      "cell_type": "code",
      "metadata": {
        "id": "BHg_4wlvyH6J"
      },
      "source": [
        "data=data.sort_values(by='No. of Medals', ascending=False).head()"
      ],
      "execution_count": 60,
      "outputs": []
    },
    {
      "cell_type": "code",
      "metadata": {
        "colab": {
          "base_uri": "https://localhost:8080/",
          "height": 203
        },
        "id": "ECqONiWkyepg",
        "outputId": "15c630f8-3536-44ab-c65a-07152702797c"
      },
      "source": [
        "data"
      ],
      "execution_count": 61,
      "outputs": [
        {
          "output_type": "execute_result",
          "data": {
            "text/html": [
              "<div>\n",
              "<style scoped>\n",
              "    .dataframe tbody tr th:only-of-type {\n",
              "        vertical-align: middle;\n",
              "    }\n",
              "\n",
              "    .dataframe tbody tr th {\n",
              "        vertical-align: top;\n",
              "    }\n",
              "\n",
              "    .dataframe thead th {\n",
              "        text-align: right;\n",
              "    }\n",
              "</style>\n",
              "<table border=\"1\" class=\"dataframe\">\n",
              "  <thead>\n",
              "    <tr style=\"text-align: right;\">\n",
              "      <th></th>\n",
              "      <th>Athlete</th>\n",
              "      <th>No. of Medals</th>\n",
              "    </tr>\n",
              "  </thead>\n",
              "  <tbody>\n",
              "    <tr>\n",
              "      <th>18640</th>\n",
              "      <td>PHELPS, Michael</td>\n",
              "      <td>22</td>\n",
              "    </tr>\n",
              "    <tr>\n",
              "      <th>7197</th>\n",
              "      <td>LATYNINA, Larisa</td>\n",
              "      <td>18</td>\n",
              "    </tr>\n",
              "    <tr>\n",
              "      <th>9948</th>\n",
              "      <td>ANDRIANOV, Nikolay</td>\n",
              "      <td>15</td>\n",
              "    </tr>\n",
              "    <tr>\n",
              "      <th>7201</th>\n",
              "      <td>SHAKHLIN, Boris</td>\n",
              "      <td>13</td>\n",
              "    </tr>\n",
              "    <tr>\n",
              "      <th>6591</th>\n",
              "      <td>ONO, Takashi</td>\n",
              "      <td>13</td>\n",
              "    </tr>\n",
              "  </tbody>\n",
              "</table>\n",
              "</div>"
            ],
            "text/plain": [
              "                  Athlete  No. of Medals\n",
              "18640     PHELPS, Michael             22\n",
              "7197     LATYNINA, Larisa             18\n",
              "9948   ANDRIANOV, Nikolay             15\n",
              "7201      SHAKHLIN, Boris             13\n",
              "6591         ONO, Takashi             13"
            ]
          },
          "metadata": {},
          "execution_count": 61
        }
      ]
    },
    {
      "cell_type": "code",
      "metadata": {
        "colab": {
          "base_uri": "https://localhost:8080/",
          "height": 444
        },
        "id": "K3GmcVrqyhci",
        "outputId": "ab20a38f-81d6-47a8-83f0-5ad5f051af21"
      },
      "source": [
        "data.plot(x='Athlete',y='No. of Medals',kind='bar', figsize=(10, 5))"
      ],
      "execution_count": 64,
      "outputs": [
        {
          "output_type": "execute_result",
          "data": {
            "text/plain": [
              "<matplotlib.axes._subplots.AxesSubplot at 0x7f04e3daafd0>"
            ]
          },
          "metadata": {},
          "execution_count": 64
        },
        {
          "output_type": "display_data",
          "data": {
            "image/png": "[encoded data removed]",
            "text/plain": [
              "<Figure size 720x360 with 1 Axes>"
            ]
          },
          "metadata": {
            "needs_background": "light"
          }
        }
      ]
    },
    {
      "cell_type": "markdown",
      "metadata": {
        "id": "zu2zRq6ky7hP"
      },
      "source": [
        "### **5. Which player has won most number Gold Medals of medals? (Top 5)**"
      ]
    },
    {
      "cell_type": "code",
      "metadata": {
        "id": "gJX7kf4vym35"
      },
      "source": [
        "goldPlayers = df[df.Medal == 'Gold']"
      ],
      "execution_count": 65,
      "outputs": []
    },
    {
      "cell_type": "code",
      "metadata": {
        "colab": {
          "base_uri": "https://localhost:8080/",
          "height": 203
        },
        "id": "snuvWznpzGoB",
        "outputId": "b7661384-ca5e-4f38-a545-887cde258744"
      },
      "source": [
        "goldPlayers.head()"
      ],
      "execution_count": 67,
      "outputs": [
        {
          "output_type": "execute_result",
          "data": {
            "text/html": [
              "<div>\n",
              "<style scoped>\n",
              "    .dataframe tbody tr th:only-of-type {\n",
              "        vertical-align: middle;\n",
              "    }\n",
              "\n",
              "    .dataframe tbody tr th {\n",
              "        vertical-align: top;\n",
              "    }\n",
              "\n",
              "    .dataframe thead th {\n",
              "        text-align: right;\n",
              "    }\n",
              "</style>\n",
              "<table border=\"1\" class=\"dataframe\">\n",
              "  <thead>\n",
              "    <tr style=\"text-align: right;\">\n",
              "      <th></th>\n",
              "      <th>Year</th>\n",
              "      <th>City</th>\n",
              "      <th>Sport</th>\n",
              "      <th>Discipline</th>\n",
              "      <th>Athlete</th>\n",
              "      <th>Country</th>\n",
              "      <th>Gender</th>\n",
              "      <th>Event</th>\n",
              "      <th>Medal</th>\n",
              "    </tr>\n",
              "  </thead>\n",
              "  <tbody>\n",
              "    <tr>\n",
              "      <th>0</th>\n",
              "      <td>1896</td>\n",
              "      <td>Athens</td>\n",
              "      <td>Aquatics</td>\n",
              "      <td>Swimming</td>\n",
              "      <td>HAJOS, Alfred</td>\n",
              "      <td>HUN</td>\n",
              "      <td>Men</td>\n",
              "      <td>100M Freestyle</td>\n",
              "      <td>Gold</td>\n",
              "    </tr>\n",
              "    <tr>\n",
              "      <th>3</th>\n",
              "      <td>1896</td>\n",
              "      <td>Athens</td>\n",
              "      <td>Aquatics</td>\n",
              "      <td>Swimming</td>\n",
              "      <td>MALOKINIS, Ioannis</td>\n",
              "      <td>GRE</td>\n",
              "      <td>Men</td>\n",
              "      <td>100M Freestyle For Sailors</td>\n",
              "      <td>Gold</td>\n",
              "    </tr>\n",
              "    <tr>\n",
              "      <th>6</th>\n",
              "      <td>1896</td>\n",
              "      <td>Athens</td>\n",
              "      <td>Aquatics</td>\n",
              "      <td>Swimming</td>\n",
              "      <td>HAJOS, Alfred</td>\n",
              "      <td>HUN</td>\n",
              "      <td>Men</td>\n",
              "      <td>1200M Freestyle</td>\n",
              "      <td>Gold</td>\n",
              "    </tr>\n",
              "    <tr>\n",
              "      <th>9</th>\n",
              "      <td>1896</td>\n",
              "      <td>Athens</td>\n",
              "      <td>Aquatics</td>\n",
              "      <td>Swimming</td>\n",
              "      <td>NEUMANN, Paul</td>\n",
              "      <td>AUT</td>\n",
              "      <td>Men</td>\n",
              "      <td>400M Freestyle</td>\n",
              "      <td>Gold</td>\n",
              "    </tr>\n",
              "    <tr>\n",
              "      <th>13</th>\n",
              "      <td>1896</td>\n",
              "      <td>Athens</td>\n",
              "      <td>Athletics</td>\n",
              "      <td>Athletics</td>\n",
              "      <td>BURKE, Thomas</td>\n",
              "      <td>USA</td>\n",
              "      <td>Men</td>\n",
              "      <td>100M</td>\n",
              "      <td>Gold</td>\n",
              "    </tr>\n",
              "  </tbody>\n",
              "</table>\n",
              "</div>"
            ],
            "text/plain": [
              "    Year    City      Sport  ... Gender                       Event Medal\n",
              "0   1896  Athens   Aquatics  ...    Men              100M Freestyle  Gold\n",
              "3   1896  Athens   Aquatics  ...    Men  100M Freestyle For Sailors  Gold\n",
              "6   1896  Athens   Aquatics  ...    Men             1200M Freestyle  Gold\n",
              "9   1896  Athens   Aquatics  ...    Men              400M Freestyle  Gold\n",
              "13  1896  Athens  Athletics  ...    Men                        100M  Gold\n",
              "\n",
              "[5 rows x 9 columns]"
            ]
          },
          "metadata": {},
          "execution_count": 67
        }
      ]
    },
    {
      "cell_type": "code",
      "metadata": {
        "id": "guefTMZ5zOa5"
      },
      "source": [
        "data=[]\n",
        "for i in goldPlayers['Athlete'].unique():\n",
        "    data.append([i, len(goldPlayers[goldPlayers['Athlete'] == i])])\n",
        "data=pd.DataFrame(data, columns=['Athlete','No. of Gold Medals']) "
      ],
      "execution_count": 69,
      "outputs": []
    },
    {
      "cell_type": "code",
      "metadata": {
        "id": "kXzwRVjCzOX-"
      },
      "source": [
        "data=data.sort_values(by='No. of Gold Medals', ascending=False).head()"
      ],
      "execution_count": 70,
      "outputs": []
    },
    {
      "cell_type": "code",
      "metadata": {
        "colab": {
          "base_uri": "https://localhost:8080/",
          "height": 203
        },
        "id": "b2uzBbr3zOVT",
        "outputId": "bce25144-7fc1-41ae-d02f-df2788b8ad6a"
      },
      "source": [
        "data"
      ],
      "execution_count": 71,
      "outputs": [
        {
          "output_type": "execute_result",
          "data": {
            "text/html": [
              "<div>\n",
              "<style scoped>\n",
              "    .dataframe tbody tr th:only-of-type {\n",
              "        vertical-align: middle;\n",
              "    }\n",
              "\n",
              "    .dataframe tbody tr th {\n",
              "        vertical-align: top;\n",
              "    }\n",
              "\n",
              "    .dataframe thead th {\n",
              "        text-align: right;\n",
              "    }\n",
              "</style>\n",
              "<table border=\"1\" class=\"dataframe\">\n",
              "  <thead>\n",
              "    <tr style=\"text-align: right;\">\n",
              "      <th></th>\n",
              "      <th>Athlete</th>\n",
              "      <th>No. of Gold Medals</th>\n",
              "    </tr>\n",
              "  </thead>\n",
              "  <tbody>\n",
              "    <tr>\n",
              "      <th>6851</th>\n",
              "      <td>PHELPS, Michael</td>\n",
              "      <td>18</td>\n",
              "    </tr>\n",
              "    <tr>\n",
              "      <th>4630</th>\n",
              "      <td>LEWIS, Carl</td>\n",
              "      <td>9</td>\n",
              "    </tr>\n",
              "    <tr>\n",
              "      <th>907</th>\n",
              "      <td>NURMI, Paavo</td>\n",
              "      <td>9</td>\n",
              "    </tr>\n",
              "    <tr>\n",
              "      <th>2714</th>\n",
              "      <td>LATYNINA, Larisa</td>\n",
              "      <td>9</td>\n",
              "    </tr>\n",
              "    <tr>\n",
              "      <th>3320</th>\n",
              "      <td>SPITZ, Mark</td>\n",
              "      <td>9</td>\n",
              "    </tr>\n",
              "  </tbody>\n",
              "</table>\n",
              "</div>"
            ],
            "text/plain": [
              "               Athlete  No. of Gold Medals\n",
              "6851   PHELPS, Michael                  18\n",
              "4630       LEWIS, Carl                   9\n",
              "907       NURMI, Paavo                   9\n",
              "2714  LATYNINA, Larisa                   9\n",
              "3320       SPITZ, Mark                   9"
            ]
          },
          "metadata": {},
          "execution_count": 71
        }
      ]
    },
    {
      "cell_type": "code",
      "metadata": {
        "colab": {
          "base_uri": "https://localhost:8080/",
          "height": 426
        },
        "id": "H8ZXADhOzOS7",
        "outputId": "f236897e-1f22-427a-d01c-f1b123bb5a28"
      },
      "source": [
        "data.plot(x='Athlete',y='No. of Gold Medals',kind='bar', figsize=(10, 5))"
      ],
      "execution_count": 73,
      "outputs": [
        {
          "output_type": "execute_result",
          "data": {
            "text/plain": [
              "<matplotlib.axes._subplots.AxesSubplot at 0x7f04e3c73550>"
            ]
          },
          "metadata": {},
          "execution_count": 73
        },
        {
          "output_type": "display_data",
          "data": {
            "image/png": "[encoded data removed]",
            "text/plain": [
              "<Figure size 720x360 with 1 Axes>"
            ]
          },
          "metadata": {
            "needs_background": "light"
          }
        }
      ]
    },
    {
      "cell_type": "markdown",
      "metadata": {
        "id": "EUfs7rNi0CjS"
      },
      "source": [
        "### **6. In which year India won first Gold Medal in Summer Olympics?**"
      ]
    },
    {
      "cell_type": "code",
      "metadata": {
        "id": "JTejtb1nzJUp"
      },
      "source": [
        "IndGold = df[(df.Country == 'IND') & (df.Medal == 'Gold')]"
      ],
      "execution_count": 75,
      "outputs": []
    },
    {
      "cell_type": "code",
      "metadata": {
        "colab": {
          "base_uri": "https://localhost:8080/",
          "height": 80
        },
        "id": "zYNNOEWj0Z_T",
        "outputId": "7efd96be-806d-4a6b-bcc1-fba06591413a"
      },
      "source": [
        "IndGold.head(1)"
      ],
      "execution_count": 78,
      "outputs": [
        {
          "output_type": "execute_result",
          "data": {
            "text/html": [
              "<div>\n",
              "<style scoped>\n",
              "    .dataframe tbody tr th:only-of-type {\n",
              "        vertical-align: middle;\n",
              "    }\n",
              "\n",
              "    .dataframe tbody tr th {\n",
              "        vertical-align: top;\n",
              "    }\n",
              "\n",
              "    .dataframe thead th {\n",
              "        text-align: right;\n",
              "    }\n",
              "</style>\n",
              "<table border=\"1\" class=\"dataframe\">\n",
              "  <thead>\n",
              "    <tr style=\"text-align: right;\">\n",
              "      <th></th>\n",
              "      <th>Year</th>\n",
              "      <th>City</th>\n",
              "      <th>Sport</th>\n",
              "      <th>Discipline</th>\n",
              "      <th>Athlete</th>\n",
              "      <th>Country</th>\n",
              "      <th>Gender</th>\n",
              "      <th>Event</th>\n",
              "      <th>Medal</th>\n",
              "    </tr>\n",
              "  </thead>\n",
              "  <tbody>\n",
              "    <tr>\n",
              "      <th>5512</th>\n",
              "      <td>1928</td>\n",
              "      <td>Amsterdam</td>\n",
              "      <td>Hockey</td>\n",
              "      <td>Hockey</td>\n",
              "      <td>ALLEN, Richard James</td>\n",
              "      <td>IND</td>\n",
              "      <td>Men</td>\n",
              "      <td>Hockey</td>\n",
              "      <td>Gold</td>\n",
              "    </tr>\n",
              "  </tbody>\n",
              "</table>\n",
              "</div>"
            ],
            "text/plain": [
              "      Year       City   Sport Discipline  ... Country Gender   Event Medal\n",
              "5512  1928  Amsterdam  Hockey     Hockey  ...     IND    Men  Hockey  Gold\n",
              "\n",
              "[1 rows x 9 columns]"
            ]
          },
          "metadata": {},
          "execution_count": 78
        }
      ]
    },
    {
      "cell_type": "markdown",
      "metadata": {
        "id": "0rus50iQ0ug-"
      },
      "source": [
        "### **7. Which event is most popular in terms on number of players? (Top 5)**"
      ]
    },
    {
      "cell_type": "code",
      "metadata": {
        "id": "4NCeWGJA0kMi"
      },
      "source": [
        "\n",
        "data = []\n",
        "for i in df['Event'].unique():\n",
        "    data.append([i, len(df[df['Event'] == i])])\n",
        "data = pd.DataFrame(data, columns=['Event','No. of Players']) "
      ],
      "execution_count": 81,
      "outputs": []
    },
    {
      "cell_type": "code",
      "metadata": {
        "id": "yO-npkgt1CGU"
      },
      "source": [
        "data = data.sort_values(by='No. of Players', ascending=False).head()"
      ],
      "execution_count": 82,
      "outputs": []
    },
    {
      "cell_type": "code",
      "metadata": {
        "colab": {
          "base_uri": "https://localhost:8080/",
          "height": 203
        },
        "id": "dNiCBFbI1Hry",
        "outputId": "b169e4bd-bebb-4340-e074-4da350038347"
      },
      "source": [
        "data"
      ],
      "execution_count": 83,
      "outputs": [
        {
          "output_type": "execute_result",
          "data": {
            "text/html": [
              "<div>\n",
              "<style scoped>\n",
              "    .dataframe tbody tr th:only-of-type {\n",
              "        vertical-align: middle;\n",
              "    }\n",
              "\n",
              "    .dataframe tbody tr th {\n",
              "        vertical-align: top;\n",
              "    }\n",
              "\n",
              "    .dataframe thead th {\n",
              "        text-align: right;\n",
              "    }\n",
              "</style>\n",
              "<table border=\"1\" class=\"dataframe\">\n",
              "  <thead>\n",
              "    <tr style=\"text-align: right;\">\n",
              "      <th></th>\n",
              "      <th>Event</th>\n",
              "      <th>No. of Players</th>\n",
              "    </tr>\n",
              "  </thead>\n",
              "  <tbody>\n",
              "    <tr>\n",
              "      <th>80</th>\n",
              "      <td>Football</td>\n",
              "      <td>1497</td>\n",
              "    </tr>\n",
              "    <tr>\n",
              "      <th>176</th>\n",
              "      <td>Hockey</td>\n",
              "      <td>1422</td>\n",
              "    </tr>\n",
              "    <tr>\n",
              "      <th>138</th>\n",
              "      <td>Team Competition</td>\n",
              "      <td>1147</td>\n",
              "    </tr>\n",
              "    <tr>\n",
              "      <th>327</th>\n",
              "      <td>Basketball</td>\n",
              "      <td>1012</td>\n",
              "    </tr>\n",
              "    <tr>\n",
              "      <th>337</th>\n",
              "      <td>Handball</td>\n",
              "      <td>973</td>\n",
              "    </tr>\n",
              "  </tbody>\n",
              "</table>\n",
              "</div>"
            ],
            "text/plain": [
              "                Event  No. of Players\n",
              "80           Football            1497\n",
              "176            Hockey            1422\n",
              "138  Team Competition            1147\n",
              "327        Basketball            1012\n",
              "337          Handball             973"
            ]
          },
          "metadata": {},
          "execution_count": 83
        }
      ]
    },
    {
      "cell_type": "code",
      "metadata": {
        "colab": {
          "base_uri": "https://localhost:8080/",
          "height": 431
        },
        "id": "dM5_65RH1JYC",
        "outputId": "9523cf59-291d-419f-bd50-b23f104457a2"
      },
      "source": [
        "data.plot(x='Event',y='No. of Players',kind='bar', figsize=(10, 5))"
      ],
      "execution_count": 85,
      "outputs": [
        {
          "output_type": "execute_result",
          "data": {
            "text/plain": [
              "<matplotlib.axes._subplots.AxesSubplot at 0x7f04e3b8acd0>"
            ]
          },
          "metadata": {},
          "execution_count": 85
        },
        {
          "output_type": "display_data",
          "data": {
            "image/png": "[encoded data removed]",
            "text/plain": [
              "<Figure size 720x360 with 1 Axes>"
            ]
          },
          "metadata": {
            "needs_background": "light"
          }
        }
      ]
    },
    {
      "cell_type": "markdown",
      "metadata": {
        "id": "1YSHqgqg1cNa"
      },
      "source": [
        "### **8. Which sport is having most female Gold Medalists? (Top 5)**"
      ]
    },
    {
      "cell_type": "code",
      "metadata": {
        "id": "TZufyXd51RBz"
      },
      "source": [
        "womenGold = df[(df.Gender == 'Women') & (df.Medal == 'Gold')]\n",
        "data = []\n",
        "for i in womenGold['Sport'].unique():\n",
        "    data.append([i, len(womenGold[womenGold['Sport'] == i])])\n",
        "data = pd.DataFrame(data, columns=['Sport','No. of Female Gold Medalists']) \n"
      ],
      "execution_count": 86,
      "outputs": []
    },
    {
      "cell_type": "code",
      "metadata": {
        "id": "EVCoAleP2B_y"
      },
      "source": [
        "data = data.sort_values(by='No. of Female Gold Medalists', ascending=False).head()"
      ],
      "execution_count": 87,
      "outputs": []
    },
    {
      "cell_type": "code",
      "metadata": {
        "colab": {
          "base_uri": "https://localhost:8080/",
          "height": 203
        },
        "id": "rgXISqms2E7S",
        "outputId": "71d8989e-d603-4e50-e8e5-cdaa58702257"
      },
      "source": [
        "data"
      ],
      "execution_count": 88,
      "outputs": [
        {
          "output_type": "execute_result",
          "data": {
            "text/html": [
              "<div>\n",
              "<style scoped>\n",
              "    .dataframe tbody tr th:only-of-type {\n",
              "        vertical-align: middle;\n",
              "    }\n",
              "\n",
              "    .dataframe tbody tr th {\n",
              "        vertical-align: top;\n",
              "    }\n",
              "\n",
              "    .dataframe thead th {\n",
              "        text-align: right;\n",
              "    }\n",
              "</style>\n",
              "<table border=\"1\" class=\"dataframe\">\n",
              "  <thead>\n",
              "    <tr style=\"text-align: right;\">\n",
              "      <th></th>\n",
              "      <th>Sport</th>\n",
              "      <th>No. of Female Gold Medalists</th>\n",
              "    </tr>\n",
              "  </thead>\n",
              "  <tbody>\n",
              "    <tr>\n",
              "      <th>4</th>\n",
              "      <td>Aquatics</td>\n",
              "      <td>589</td>\n",
              "    </tr>\n",
              "    <tr>\n",
              "      <th>7</th>\n",
              "      <td>Athletics</td>\n",
              "      <td>388</td>\n",
              "    </tr>\n",
              "    <tr>\n",
              "      <th>8</th>\n",
              "      <td>Gymnastics</td>\n",
              "      <td>268</td>\n",
              "    </tr>\n",
              "    <tr>\n",
              "      <th>14</th>\n",
              "      <td>Rowing</td>\n",
              "      <td>217</td>\n",
              "    </tr>\n",
              "    <tr>\n",
              "      <th>11</th>\n",
              "      <td>Volleyball</td>\n",
              "      <td>166</td>\n",
              "    </tr>\n",
              "  </tbody>\n",
              "</table>\n",
              "</div>"
            ],
            "text/plain": [
              "         Sport  No. of Female Gold Medalists\n",
              "4     Aquatics                           589\n",
              "7    Athletics                           388\n",
              "8   Gymnastics                           268\n",
              "14      Rowing                           217\n",
              "11  Volleyball                           166"
            ]
          },
          "metadata": {},
          "execution_count": 88
        }
      ]
    },
    {
      "cell_type": "code",
      "metadata": {
        "colab": {
          "base_uri": "https://localhost:8080/",
          "height": 399
        },
        "id": "dMlieVOe2GUK",
        "outputId": "218af8e1-b1dc-4015-8213-79ea812939fa"
      },
      "source": [
        "data.plot(x='Sport',y='No. of Female Gold Medalists', kind='bar', figsize=(10, 5))"
      ],
      "execution_count": 89,
      "outputs": [
        {
          "output_type": "execute_result",
          "data": {
            "text/plain": [
              "<matplotlib.axes._subplots.AxesSubplot at 0x7f04e3acd290>"
            ]
          },
          "metadata": {},
          "execution_count": 89
        },
        {
          "output_type": "display_data",
          "data": {
            "image/png": "[encoded data removed]",
            "text/plain": [
              "<Figure size 720x360 with 1 Axes>"
            ]
          },
          "metadata": {
            "needs_background": "light"
          }
        }
      ]
    },
    {
      "cell_type": "code",
      "metadata": {
        "id": "FhlWNQ762Uwy"
      },
      "source": [
        ""
      ],
      "execution_count": null,
      "outputs": []
    }
  ]
}
