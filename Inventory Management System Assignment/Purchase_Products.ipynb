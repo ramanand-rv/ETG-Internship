{
  "nbformat": 4,
  "nbformat_minor": 0,
  "metadata": {
    "colab": {
      "name": "Purchase_Products.ipynb",
      "provenance": [],
      "collapsed_sections": []
    },
    "kernelspec": {
      "name": "python3",
      "display_name": "Python 3"
    },
    "language_info": {
      "name": "python"
    }
  },
  "cells": [
    {
      "cell_type": "code",
      "metadata": {
        "id": "QKi0JqQgfI4a"
      },
      "source": [
        "import json\n",
        "\n",
        "fd = open(\"record.json\",'r')\n",
        "r = fd.read()\n",
        "fd.close()\n",
        "\n",
        "records = json.loads(r)"
      ],
      "execution_count": 1,
      "outputs": []
    },
    {
      "cell_type": "code",
      "metadata": {
        "colab": {
          "base_uri": "https://localhost:8080/"
        },
        "id": "d3XCmfjpfXKk",
        "outputId": "87f93561-314b-4f0c-cc26-f5db00241bf4"
      },
      "source": [
        "records"
      ],
      "execution_count": 2,
      "outputs": [
        {
          "output_type": "execute_result",
          "data": {
            "text/plain": [
              "{'1001': {'comp': 'fasai',\n",
              "  'name': 'Choco Cake',\n",
              "  'no': 12348,\n",
              "  'pr': 100,\n",
              "  'qn': 34},\n",
              " '1002': {'comp': 'Amul',\n",
              "  'name': 'Milk Cake',\n",
              "  'no': 12348,\n",
              "  'pr': 800,\n",
              "  'qn': 100},\n",
              " '1003': {'comp': 'cocacola',\n",
              "  'name': 'Drink',\n",
              "  'no': 12348,\n",
              "  'pr': 85,\n",
              "  'qn': 100},\n",
              " '1004': {'comp': 'Amul', 'name': 'Candy', 'no': 12348, 'pr': 5, 'qn': 1000},\n",
              " '1005': {'comp': 'cello', 'name': 'Pen', 'no': 12348, 'pr': 20, 'qn': 100},\n",
              " '1006': {'comp': 'iphone',\n",
              "  'name': 'Phone',\n",
              "  'no': 12348,\n",
              "  'pr': 50000,\n",
              "  'qn': 10},\n",
              " '1007': {'comp': 'Sony', 'name': 'Mic', 'no': 12348, 'pr': 1500, 'qn': 0},\n",
              " '1008': {'comp': 'Sony India Pt Ltd',\n",
              "  'name': 'Case',\n",
              "  'no': 12348,\n",
              "  'pr': 599,\n",
              "  'qn': 5},\n",
              " '1009': {'comp': 'Sony ',\n",
              "  'name': 'Adapter',\n",
              "  'no': '12349',\n",
              "  'pr': 300,\n",
              "  'qn': 20},\n",
              " '1010': {'comp': 'buzz', 'name': 'cone', 'no': '12310', 'pr': 30, 'qn': 50},\n",
              " '1011': {'comp': 'fassi',\n",
              "  'name': 'buiscuit',\n",
              "  'no': '123411',\n",
              "  'pr': 50,\n",
              "  'qn': 30},\n",
              " '1012': {'comp': 'Maa Plast',\n",
              "  'name': 'vegetable basket',\n",
              "  'no': '123412',\n",
              "  'pr': 100,\n",
              "  'qn': 50},\n",
              " '1013': {'comp': 'Danone',\n",
              "  'name': 'yogurt',\n",
              "  'no': '123413',\n",
              "  'pr': 50,\n",
              "  'qn': 10},\n",
              " '1014': {'comp': 'Rani herbals',\n",
              "  'name': 'Tooth paste',\n",
              "  'no': '123414',\n",
              "  'pr': 45,\n",
              "  'qn': 30},\n",
              " '1015': {'comp': 'bimbo',\n",
              "  'name': 'pizza base',\n",
              "  'no': '123415',\n",
              "  'pr': 100,\n",
              "  'qn': 50},\n",
              " '1016': {'comp': 'COca-Cola',\n",
              "  'name': 'soft drink',\n",
              "  'no': '123416',\n",
              "  'pr': 30,\n",
              "  'qn': 22},\n",
              " '1017': {'comp': 'johnson pvt ltd',\n",
              "  'name': 'soap',\n",
              "  'no': '123417',\n",
              "  'pr': 10,\n",
              "  'qn': 50},\n",
              " '1018': {'comp': 'Lenor',\n",
              "  'name': 'ditergent',\n",
              "  'no': '123418',\n",
              "  'pr': 70,\n",
              "  'qn': 10},\n",
              " '1019': {'comp': 'port',\n",
              "  'name': 'laundry soap',\n",
              "  'no': '123419',\n",
              "  'pr': 30,\n",
              "  'qn': 10},\n",
              " '1020': {'comp': 'Nestle',\n",
              "  'name': 'chocolate',\n",
              "  'no': '123420',\n",
              "  'pr': 20,\n",
              "  'qn': 5},\n",
              " '1021': {'comp': 'lux',\n",
              "  'name': 'beauty soap',\n",
              "  'no': '123421',\n",
              "  'pr': 45,\n",
              "  'qn': 5},\n",
              " '1022': {'comp': 'hartleys',\n",
              "  'name': 'jam',\n",
              "  'no': '123422',\n",
              "  'pr': 75,\n",
              "  'qn': 4},\n",
              " '1023': {'comp': 'almarai',\n",
              "  'name': 'cupcakes',\n",
              "  'no': '123423',\n",
              "  'pr': 35,\n",
              "  'qn': 10},\n",
              " '1024': {'comp': 'cheez whiz',\n",
              "  'name': 'cheese',\n",
              "  'no': '123424',\n",
              "  'pr': 400,\n",
              "  'qn': 1},\n",
              " '1025': {'comp': 'velveeta',\n",
              "  'name': 'egg',\n",
              "  'no': '123425',\n",
              "  'pr': 20,\n",
              "  'qn': 15},\n",
              " '1026': {'comp': 'fleischmanns yeast',\n",
              "  'name': 'yeast',\n",
              "  'no': '123426',\n",
              "  'pr': 5,\n",
              "  'qn': 500},\n",
              " '1027': {'comp': 'branston',\n",
              "  'name': 'pickel',\n",
              "  'no': '1027',\n",
              "  'pr': 300,\n",
              "  'qn': 10},\n",
              " '1028': {'comp': 'chicken tonight',\n",
              "  'name': 'sause',\n",
              "  'no': '123428',\n",
              "  'pr': 150,\n",
              "  'qn': 2},\n",
              " '1029': {'comp': 'knorr',\n",
              "  'name': 'noodles',\n",
              "  'no': '123429',\n",
              "  'pr': 100,\n",
              "  'qn': 25},\n",
              " '1030': {'comp': 'nutella',\n",
              "  'name': 'nut butter',\n",
              "  'no': '123430',\n",
              "  'pr': 400,\n",
              "  'qn': 10}}"
            ]
          },
          "metadata": {},
          "execution_count": 2
        }
      ]
    },
    {
      "cell_type": "code",
      "metadata": {
        "colab": {
          "base_uri": "https://localhost:8080/"
        },
        "id": "LQlrkqRvfZFr",
        "outputId": "95b11777-7fe6-4fb2-fff2-ece01e81f4c3"
      },
      "source": [
        "ui_prod  = str(input(\"Enter the product_Id: \"))\n",
        "ui_quant = int(input(\"Enter the quantity: \"))\n",
        "\n",
        "\n",
        "print(\"Product: \", records[ui_prod]['name'])\n",
        "print(\"Price: \", records[ui_prod]['pr'])\n",
        "print(\"Billing Amount: \", records[ui_prod]['pr'] * ui_quant)\n",
        "\n",
        "records[ui_prod]['qn'] = records[ui_prod]['qn'] - ui_quant"
      ],
      "execution_count": 3,
      "outputs": [
        {
          "output_type": "stream",
          "name": "stdout",
          "text": [
            "Enter the product_Id: 1022\n",
            "Enter the quantity: 2\n",
            "Product:  jam\n",
            "Price:  75\n",
            "Billing Amount:  150\n"
          ]
        }
      ]
    },
    {
      "cell_type": "code",
      "metadata": {
        "id": "ckaZv8CLfcdz"
      },
      "source": [
        "js = json.dumps(records)\n",
        "\n",
        "fd = open(\"record.json\",'w')\n",
        "fd.write(js)\n",
        "fd.close()"
      ],
      "execution_count": 4,
      "outputs": []
    },
    {
      "cell_type": "code",
      "metadata": {
        "colab": {
          "base_uri": "https://localhost:8080/"
        },
        "id": "YEd0SVlJfh8q",
        "outputId": "fcf38299-7a72-4468-b3bc-2fa78ae7cc6d"
      },
      "source": [
        "{'prod' : ui_prod, 'qn' : ui_quant, 'amount': records[ui_prod]['pr'] * ui_quant}"
      ],
      "execution_count": 5,
      "outputs": [
        {
          "output_type": "execute_result",
          "data": {
            "text/plain": [
              "{'amount': 150, 'prod': '1022', 'qn': 2}"
            ]
          },
          "metadata": {},
          "execution_count": 5
        }
      ]
    },
    {
      "cell_type": "code",
      "metadata": {
        "id": "lGhInAQJfkHT"
      },
      "source": [
        "sales = {1 : {'prod' : ui_prod, 'qn' : ui_quant, 'amount': records[ui_prod]['pr'] * ui_quant},\n",
        "         2 : {'prod' : ui_prod, 'qn' : ui_quant, 'amount': records[ui_prod]['pr'] * ui_quant},\n",
        "         3 : {'prod' : ui_prod, 'qn' : ui_quant, 'amount': records[ui_prod]['pr'] * ui_quant}}"
      ],
      "execution_count": 6,
      "outputs": []
    },
    {
      "cell_type": "code",
      "metadata": {
        "id": "qkh1CGP8fn2S"
      },
      "source": [
        "sale = json.dumps(sales)"
      ],
      "execution_count": 8,
      "outputs": []
    },
    {
      "cell_type": "code",
      "metadata": {
        "colab": {
          "base_uri": "https://localhost:8080/"
        },
        "id": "gH1fndnhfpwq",
        "outputId": "f00e0ed0-d8d6-4933-e0d2-8fe9824ffe6a"
      },
      "source": [
        "records"
      ],
      "execution_count": 9,
      "outputs": [
        {
          "output_type": "execute_result",
          "data": {
            "text/plain": [
              "{'1001': {'comp': 'fasai',\n",
              "  'name': 'Choco Cake',\n",
              "  'no': 12348,\n",
              "  'pr': 100,\n",
              "  'qn': 34},\n",
              " '1002': {'comp': 'Amul',\n",
              "  'name': 'Milk Cake',\n",
              "  'no': 12348,\n",
              "  'pr': 800,\n",
              "  'qn': 100},\n",
              " '1003': {'comp': 'cocacola',\n",
              "  'name': 'Drink',\n",
              "  'no': 12348,\n",
              "  'pr': 85,\n",
              "  'qn': 100},\n",
              " '1004': {'comp': 'Amul', 'name': 'Candy', 'no': 12348, 'pr': 5, 'qn': 1000},\n",
              " '1005': {'comp': 'cello', 'name': 'Pen', 'no': 12348, 'pr': 20, 'qn': 100},\n",
              " '1006': {'comp': 'iphone',\n",
              "  'name': 'Phone',\n",
              "  'no': 12348,\n",
              "  'pr': 50000,\n",
              "  'qn': 10},\n",
              " '1007': {'comp': 'Sony', 'name': 'Mic', 'no': 12348, 'pr': 1500, 'qn': 0},\n",
              " '1008': {'comp': 'Sony India Pt Ltd',\n",
              "  'name': 'Case',\n",
              "  'no': 12348,\n",
              "  'pr': 599,\n",
              "  'qn': 5},\n",
              " '1009': {'comp': 'Sony ',\n",
              "  'name': 'Adapter',\n",
              "  'no': '12349',\n",
              "  'pr': 300,\n",
              "  'qn': 20},\n",
              " '1010': {'comp': 'buzz', 'name': 'cone', 'no': '12310', 'pr': 30, 'qn': 50},\n",
              " '1011': {'comp': 'fassi',\n",
              "  'name': 'buiscuit',\n",
              "  'no': '123411',\n",
              "  'pr': 50,\n",
              "  'qn': 30},\n",
              " '1012': {'comp': 'Maa Plast',\n",
              "  'name': 'vegetable basket',\n",
              "  'no': '123412',\n",
              "  'pr': 100,\n",
              "  'qn': 50},\n",
              " '1013': {'comp': 'Danone',\n",
              "  'name': 'yogurt',\n",
              "  'no': '123413',\n",
              "  'pr': 50,\n",
              "  'qn': 10},\n",
              " '1014': {'comp': 'Rani herbals',\n",
              "  'name': 'Tooth paste',\n",
              "  'no': '123414',\n",
              "  'pr': 45,\n",
              "  'qn': 30},\n",
              " '1015': {'comp': 'bimbo',\n",
              "  'name': 'pizza base',\n",
              "  'no': '123415',\n",
              "  'pr': 100,\n",
              "  'qn': 50},\n",
              " '1016': {'comp': 'COca-Cola',\n",
              "  'name': 'soft drink',\n",
              "  'no': '123416',\n",
              "  'pr': 30,\n",
              "  'qn': 22},\n",
              " '1017': {'comp': 'johnson pvt ltd',\n",
              "  'name': 'soap',\n",
              "  'no': '123417',\n",
              "  'pr': 10,\n",
              "  'qn': 50},\n",
              " '1018': {'comp': 'Lenor',\n",
              "  'name': 'ditergent',\n",
              "  'no': '123418',\n",
              "  'pr': 70,\n",
              "  'qn': 10},\n",
              " '1019': {'comp': 'port',\n",
              "  'name': 'laundry soap',\n",
              "  'no': '123419',\n",
              "  'pr': 30,\n",
              "  'qn': 10},\n",
              " '1020': {'comp': 'Nestle',\n",
              "  'name': 'chocolate',\n",
              "  'no': '123420',\n",
              "  'pr': 20,\n",
              "  'qn': 5},\n",
              " '1021': {'comp': 'lux',\n",
              "  'name': 'beauty soap',\n",
              "  'no': '123421',\n",
              "  'pr': 45,\n",
              "  'qn': 5},\n",
              " '1022': {'comp': 'hartleys',\n",
              "  'name': 'jam',\n",
              "  'no': '123422',\n",
              "  'pr': 75,\n",
              "  'qn': 2},\n",
              " '1023': {'comp': 'almarai',\n",
              "  'name': 'cupcakes',\n",
              "  'no': '123423',\n",
              "  'pr': 35,\n",
              "  'qn': 10},\n",
              " '1024': {'comp': 'cheez whiz',\n",
              "  'name': 'cheese',\n",
              "  'no': '123424',\n",
              "  'pr': 400,\n",
              "  'qn': 1},\n",
              " '1025': {'comp': 'velveeta',\n",
              "  'name': 'egg',\n",
              "  'no': '123425',\n",
              "  'pr': 20,\n",
              "  'qn': 15},\n",
              " '1026': {'comp': 'fleischmanns yeast',\n",
              "  'name': 'yeast',\n",
              "  'no': '123426',\n",
              "  'pr': 5,\n",
              "  'qn': 500},\n",
              " '1027': {'comp': 'branston',\n",
              "  'name': 'pickel',\n",
              "  'no': '1027',\n",
              "  'pr': 300,\n",
              "  'qn': 10},\n",
              " '1028': {'comp': 'chicken tonight',\n",
              "  'name': 'sause',\n",
              "  'no': '123428',\n",
              "  'pr': 150,\n",
              "  'qn': 2},\n",
              " '1029': {'comp': 'knorr',\n",
              "  'name': 'noodles',\n",
              "  'no': '123429',\n",
              "  'pr': 100,\n",
              "  'qn': 25},\n",
              " '1030': {'comp': 'nutella',\n",
              "  'name': 'nut butter',\n",
              "  'no': '123430',\n",
              "  'pr': 400,\n",
              "  'qn': 10}}"
            ]
          },
          "metadata": {},
          "execution_count": 9
        }
      ]
    },
    {
      "cell_type": "code",
      "metadata": {
        "id": "Uwddluquf7Ji"
      },
      "source": [
        ""
      ],
      "execution_count": null,
      "outputs": []
    }
  ]
}